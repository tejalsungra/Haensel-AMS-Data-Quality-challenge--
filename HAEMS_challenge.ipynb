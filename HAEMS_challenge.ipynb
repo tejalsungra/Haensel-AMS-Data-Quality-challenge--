{
 "cells": [
  {
   "cell_type": "markdown",
   "id": "94cd6c3d",
   "metadata": {},
   "source": [
    "# Data Quality for Company X\n",
    "\n",
    "After analysing the given database, following questions are addressed:\n",
    "- **Are the costs in the 'api_adwords_costs' table fully covered in the 'session_sources' table? Any campaigns where you see issues?**\n",
    "\n",
    "So in the analysis of costs per click, it was found that there are lot of missing data. Some of the campaigns are generating revenue but there is no information about their cost per clicks from the third party sources. Moreover, except the missing data campaigns,there are  35 campaigns from which 99% revenue could be collected. Furthermore,  2 campaigns are underperforming  **campaign_id_79 and campaign_id_94**. Although, there are some sessions which are happening in these campaigns but users are not clicking on them.\n",
    "\n",
    "- **Are the conversions in the 'conversions' table stable over time? Any pattern?**\n",
    "\n",
    "The conversions are not stable over time. The conversion was highest on 30th of July, and lowest on 24th July. It is noted that on **Fridays and Sundays**, conversion is more than on saturday. Also, on 30th and 18th of July, it was Friday and Sunday and on 24th Saturday.\n",
    "\n",
    "- **Double check conversions ('conversions' table) with backend ('conversions_backend' table), any issues?**\n",
    "\n",
    "As conversions at the backend are true, there are some issues with the conversions at front:\n",
    " 1. There are 345 missing conversions in the coversions_frontend table.\n",
    " 2. 32 conversions are tracked twice but with different user_id.\n",
    " 3. The total revenue generated in both the conversion table has a difference of around **30,000 euros**.\n",
    "\n",
    "\n",
    "- **Are attribution results consistent? Do you find any conversions where the 'ihc' values don't make sense?**\n",
    "\n",
    "Given that ihc values should be 1 for each conversion id, but seems like  most of the ihc values are not equal to 1. \n",
    "\n",
    "\n",
    "- **(Bonus) Do we have an issue with channeling? Are the number of sessions per channel stable over time?**\n",
    "\n",
    "Content Marketing and Display marketing are the worse channels of all, there are negligible sessions on these channels. Moreover, SEO, Direct, Shopping - Non-branded, Social - Paid, Email are the top 5 channels for running the campaigns. Furthermore, it was noted that several channels such as **Video marketing, Google remarketing, YouTube Ads, Shopping Brand, Influencers, Referal, Social organic, Affiliates, Social Remarketing, SEA and Direct** had more traffic between 9th July and 13 July. In addition, the trend is somehow decreasing in these channels (except Direct and SEA-Brand) at the end of the month. However, the traffic is increasing on **E-mail and SEO** channels at the end of the month. Therefore, the traffi is not constant on the channels over a period of time.\n",
    "\n",
    "\n",
    "- **(Bonus) Any other issues?**\n",
    "\n",
    "There are **27 conversions** ( 27 from backend conversions and 197 from conversion frontend) where **revenue generated is 0**.\n",
    "However, this could be possible because of the following reason:\n",
    "\n",
    "1. There is a coupon or discount code which is applied at the checkout.\n",
    "2. The price of some items are free (like some free e-books, free-trials etc).\n",
    "\n",
    "As we have not enough information about the products sold by Company X, we can not derive any conclusion but assume that there is an issue in the data.\n",
    "\n",
    "Moreover, if the conversions at the backend are true and we have same conversion ids in both conversion tables(some missing values in conversion_front), then the number of conversion_id with the 0 revenue generated would be the same. However, the conversion at frontend has not properly tracked the revenue and there is a difference of 170 untracked ids. \n",
    "\n"
   ]
  },
  {
   "cell_type": "code",
   "execution_count": 1,
   "id": "03b0608c",
   "metadata": {},
   "outputs": [],
   "source": [
    "#importing libraries\n",
    "import pandas as pd\n",
    "import numpy as np\n",
    "import matplotlib.pyplot as plt\n",
    "%matplotlib inline\n",
    "import seaborn as sns\n",
    "import sqlite3\n",
    "import warnings\n",
    "warnings.filterwarnings(\"ignore\")"
   ]
  },
  {
   "cell_type": "code",
   "execution_count": 2,
   "id": "84fbe207",
   "metadata": {},
   "outputs": [],
   "source": [
    "#eatablishing conection between database and python\n",
    "sqliteConnection = sqlite3.connect('challenge.db')"
   ]
  },
  {
   "cell_type": "code",
   "execution_count": 3,
   "id": "78bc1080",
   "metadata": {},
   "outputs": [],
   "source": [
    "cursor = sqliteConnection.cursor()"
   ]
  },
  {
   "cell_type": "code",
   "execution_count": 4,
   "id": "069cac4c",
   "metadata": {},
   "outputs": [],
   "source": [
    "#query='''select * from session_sources'''\n",
    "data = cursor.execute('''SELECT * FROM session_sources''')\n",
    "session_sources = pd.DataFrame(data.fetchall())\n"
   ]
  },
  {
   "cell_type": "code",
   "execution_count": 5,
   "id": "a916b557",
   "metadata": {},
   "outputs": [],
   "source": [
    "names= [description[0] for description in data.description]"
   ]
  },
  {
   "cell_type": "code",
   "execution_count": 6,
   "id": "158e0ee9",
   "metadata": {},
   "outputs": [
    {
     "data": {
      "text/plain": [
       "['session_id',\n",
       " 'user_id',\n",
       " 'event_date',\n",
       " 'event_time',\n",
       " 'channel_name',\n",
       " 'campaign_name',\n",
       " 'campaign_id',\n",
       " 'market',\n",
       " 'cpc']"
      ]
     },
     "execution_count": 6,
     "metadata": {},
     "output_type": "execute_result"
    }
   ],
   "source": [
    "names"
   ]
  },
  {
   "cell_type": "code",
   "execution_count": 7,
   "id": "7ee1cf18",
   "metadata": {},
   "outputs": [],
   "source": [
    "session_sources.columns=names"
   ]
  },
  {
   "cell_type": "code",
   "execution_count": 8,
   "id": "746506c1",
   "metadata": {},
   "outputs": [
    {
     "data": {
      "text/html": [
       "<div>\n",
       "<style scoped>\n",
       "    .dataframe tbody tr th:only-of-type {\n",
       "        vertical-align: middle;\n",
       "    }\n",
       "\n",
       "    .dataframe tbody tr th {\n",
       "        vertical-align: top;\n",
       "    }\n",
       "\n",
       "    .dataframe thead th {\n",
       "        text-align: right;\n",
       "    }\n",
       "</style>\n",
       "<table border=\"1\" class=\"dataframe\">\n",
       "  <thead>\n",
       "    <tr style=\"text-align: right;\">\n",
       "      <th></th>\n",
       "      <th>session_id</th>\n",
       "      <th>user_id</th>\n",
       "      <th>event_date</th>\n",
       "      <th>event_time</th>\n",
       "      <th>channel_name</th>\n",
       "      <th>campaign_name</th>\n",
       "      <th>campaign_id</th>\n",
       "      <th>market</th>\n",
       "      <th>cpc</th>\n",
       "    </tr>\n",
       "  </thead>\n",
       "  <tbody>\n",
       "    <tr>\n",
       "      <th>0</th>\n",
       "      <td>session_id_660241</td>\n",
       "      <td>user_id_814496</td>\n",
       "      <td>2021-07-03</td>\n",
       "      <td>05:30:20</td>\n",
       "      <td>Affiliate</td>\n",
       "      <td>campaign_name_716</td>\n",
       "      <td>notset</td>\n",
       "      <td>NL</td>\n",
       "      <td>0.018</td>\n",
       "    </tr>\n",
       "    <tr>\n",
       "      <th>1</th>\n",
       "      <td>session_id_9812</td>\n",
       "      <td>user_id_752875</td>\n",
       "      <td>2021-07-19</td>\n",
       "      <td>16:00:40</td>\n",
       "      <td>Affiliate</td>\n",
       "      <td>campaign_name_108</td>\n",
       "      <td>notset</td>\n",
       "      <td>FR</td>\n",
       "      <td>0.000</td>\n",
       "    </tr>\n",
       "    <tr>\n",
       "      <th>2</th>\n",
       "      <td>session_id_780253</td>\n",
       "      <td>user_id_156905</td>\n",
       "      <td>2021-07-31</td>\n",
       "      <td>07:50:23</td>\n",
       "      <td>Affiliate</td>\n",
       "      <td>campaign_name_741</td>\n",
       "      <td>notset</td>\n",
       "      <td>DE</td>\n",
       "      <td>0.022</td>\n",
       "    </tr>\n",
       "    <tr>\n",
       "      <th>3</th>\n",
       "      <td>session_id_785994</td>\n",
       "      <td>user_id_540849</td>\n",
       "      <td>2021-07-16</td>\n",
       "      <td>09:43:00</td>\n",
       "      <td>Affiliate</td>\n",
       "      <td>campaign_name_741</td>\n",
       "      <td>notset</td>\n",
       "      <td>DE</td>\n",
       "      <td>0.000</td>\n",
       "    </tr>\n",
       "    <tr>\n",
       "      <th>4</th>\n",
       "      <td>session_id_1240841</td>\n",
       "      <td>user_id_275214</td>\n",
       "      <td>2021-07-12</td>\n",
       "      <td>08:36:41</td>\n",
       "      <td>Affiliate</td>\n",
       "      <td>campaign_name_893</td>\n",
       "      <td>notset</td>\n",
       "      <td>NL</td>\n",
       "      <td>0.188</td>\n",
       "    </tr>\n",
       "  </tbody>\n",
       "</table>\n",
       "</div>"
      ],
      "text/plain": [
       "           session_id         user_id  event_date event_time channel_name  \\\n",
       "0   session_id_660241  user_id_814496  2021-07-03   05:30:20    Affiliate   \n",
       "1     session_id_9812  user_id_752875  2021-07-19   16:00:40    Affiliate   \n",
       "2   session_id_780253  user_id_156905  2021-07-31   07:50:23    Affiliate   \n",
       "3   session_id_785994  user_id_540849  2021-07-16   09:43:00    Affiliate   \n",
       "4  session_id_1240841  user_id_275214  2021-07-12   08:36:41    Affiliate   \n",
       "\n",
       "       campaign_name campaign_id market    cpc  \n",
       "0  campaign_name_716      notset     NL  0.018  \n",
       "1  campaign_name_108      notset     FR  0.000  \n",
       "2  campaign_name_741      notset     DE  0.022  \n",
       "3  campaign_name_741      notset     DE  0.000  \n",
       "4  campaign_name_893      notset     NL  0.188  "
      ]
     },
     "execution_count": 8,
     "metadata": {},
     "output_type": "execute_result"
    }
   ],
   "source": [
    "session_sources.head()"
   ]
  },
  {
   "cell_type": "code",
   "execution_count": 9,
   "id": "7299e0a5",
   "metadata": {},
   "outputs": [],
   "source": [
    "# creating function to fetch all tables into dataframe\n",
    "\n",
    "def reading_tables(database_name,table_name):\n",
    "    sqliteConnection = sqlite3.connect(f'{database_name}')\n",
    "    cursor = sqliteConnection.cursor()\n",
    "    data = cursor.execute(f'''SELECT * FROM {table_name}''')\n",
    "    table = pd.DataFrame(data.fetchall())\n",
    "    names= [description[0] for description in data.description]\n",
    "    table.columns=names\n",
    "    return(table)   "
   ]
  },
  {
   "cell_type": "code",
   "execution_count": 10,
   "id": "84f6f15a",
   "metadata": {},
   "outputs": [],
   "source": [
    "# reading all the tables\n",
    "session_sources = reading_tables(\"challenge.db\", \"session_sources\")\n",
    "api_word_cost = reading_tables(\"challenge.db\", \"api_adwords_costs\")\n",
    "attri_jour = reading_tables(\"challenge.db\", \"attribution_customer_journey\")\n",
    "conv_back = reading_tables(\"challenge.db\", \"conversions_backend\")\n",
    "conversions = reading_tables(\"challenge.db\", \"conversions\")"
   ]
  },
  {
   "cell_type": "markdown",
   "id": "7817cc58",
   "metadata": {},
   "source": [
    "# Data Exploratory analysis"
   ]
  },
  {
   "cell_type": "code",
   "execution_count": 11,
   "id": "d3f52e02",
   "metadata": {},
   "outputs": [
    {
     "name": "stdout",
     "output_type": "stream",
     "text": [
      "<class 'pandas.core.frame.DataFrame'>\n",
      "RangeIndex: 1616702 entries, 0 to 1616701\n",
      "Data columns (total 9 columns):\n",
      " #   Column         Non-Null Count    Dtype  \n",
      "---  ------         --------------    -----  \n",
      " 0   session_id     1616702 non-null  object \n",
      " 1   user_id        1616702 non-null  object \n",
      " 2   event_date     1616702 non-null  object \n",
      " 3   event_time     1616702 non-null  object \n",
      " 4   channel_name   1616702 non-null  object \n",
      " 5   campaign_name  1616702 non-null  object \n",
      " 6   campaign_id    1616702 non-null  object \n",
      " 7   market         1616702 non-null  object \n",
      " 8   cpc            1616702 non-null  float64\n",
      "dtypes: float64(1), object(8)\n",
      "memory usage: 111.0+ MB\n"
     ]
    }
   ],
   "source": [
    "session_sources.info()"
   ]
  },
  {
   "cell_type": "code",
   "execution_count": 12,
   "id": "c78d001b",
   "metadata": {},
   "outputs": [
    {
     "name": "stdout",
     "output_type": "stream",
     "text": [
      "<class 'pandas.core.frame.DataFrame'>\n",
      "RangeIndex: 2987 entries, 0 to 2986\n",
      "Data columns (total 4 columns):\n",
      " #   Column       Non-Null Count  Dtype  \n",
      "---  ------       --------------  -----  \n",
      " 0   event_date   2987 non-null   object \n",
      " 1   campaign_id  2987 non-null   object \n",
      " 2   cost         2987 non-null   float64\n",
      " 3   clicks       2987 non-null   int64  \n",
      "dtypes: float64(1), int64(1), object(2)\n",
      "memory usage: 93.5+ KB\n"
     ]
    }
   ],
   "source": [
    "api_word_cost.info()"
   ]
  },
  {
   "cell_type": "code",
   "execution_count": 13,
   "id": "b12f3224",
   "metadata": {},
   "outputs": [
    {
     "name": "stdout",
     "output_type": "stream",
     "text": [
      "<class 'pandas.core.frame.DataFrame'>\n",
      "RangeIndex: 22499 entries, 0 to 22498\n",
      "Data columns (total 3 columns):\n",
      " #   Column      Non-Null Count  Dtype  \n",
      "---  ------      --------------  -----  \n",
      " 0   conv_id     22499 non-null  object \n",
      " 1   session_id  22499 non-null  object \n",
      " 2   ihc         22499 non-null  float64\n",
      "dtypes: float64(1), object(2)\n",
      "memory usage: 527.4+ KB\n"
     ]
    }
   ],
   "source": [
    "attri_jour.info()"
   ]
  },
  {
   "cell_type": "code",
   "execution_count": 14,
   "id": "8216f455",
   "metadata": {},
   "outputs": [
    {
     "name": "stdout",
     "output_type": "stream",
     "text": [
      "<class 'pandas.core.frame.DataFrame'>\n",
      "RangeIndex: 17283 entries, 0 to 17282\n",
      "Data columns (total 5 columns):\n",
      " #   Column     Non-Null Count  Dtype  \n",
      "---  ------     --------------  -----  \n",
      " 0   conv_id    17283 non-null  object \n",
      " 1   user_id    17283 non-null  object \n",
      " 2   conv_date  17283 non-null  object \n",
      " 3   market     17283 non-null  object \n",
      " 4   revenue    17283 non-null  float64\n",
      "dtypes: float64(1), object(4)\n",
      "memory usage: 675.2+ KB\n"
     ]
    }
   ],
   "source": [
    "conv_back.info()"
   ]
  },
  {
   "cell_type": "code",
   "execution_count": 15,
   "id": "4442a28e",
   "metadata": {},
   "outputs": [
    {
     "name": "stdout",
     "output_type": "stream",
     "text": [
      "<class 'pandas.core.frame.DataFrame'>\n",
      "RangeIndex: 16954 entries, 0 to 16953\n",
      "Data columns (total 5 columns):\n",
      " #   Column     Non-Null Count  Dtype  \n",
      "---  ------     --------------  -----  \n",
      " 0   conv_id    16954 non-null  object \n",
      " 1   user_id    16954 non-null  object \n",
      " 2   conv_date  16954 non-null  object \n",
      " 3   market     16954 non-null  object \n",
      " 4   revenue    16954 non-null  float64\n",
      "dtypes: float64(1), object(4)\n",
      "memory usage: 662.4+ KB\n"
     ]
    }
   ],
   "source": [
    "conversions.info()"
   ]
  },
  {
   "cell_type": "markdown",
   "id": "5149db0d",
   "metadata": {},
   "source": [
    "Let's check for Nan and duplicate values in each table"
   ]
  },
  {
   "cell_type": "code",
   "execution_count": 16,
   "id": "2040362e",
   "metadata": {},
   "outputs": [
    {
     "name": "stdout",
     "output_type": "stream",
     "text": [
      "\n",
      "session_sources:\n",
      "session_id       0\n",
      "user_id          0\n",
      "event_date       0\n",
      "event_time       0\n",
      "channel_name     0\n",
      "campaign_name    0\n",
      "campaign_id      0\n",
      "market           0\n",
      "cpc              0\n",
      "dtype: int64\n",
      "\n",
      "api_word_cost:\n",
      "event_date     0\n",
      "campaign_id    0\n",
      "cost           0\n",
      "clicks         0\n",
      "dtype: int64\n",
      "\n",
      "attri_jour:\n",
      "conv_id       0\n",
      "session_id    0\n",
      "ihc           0\n",
      "dtype: int64\n",
      "\n",
      "conv_back\n",
      "conv_id      0\n",
      "user_id      0\n",
      "conv_date    0\n",
      "market       0\n",
      "revenue      0\n",
      "dtype: int64\n",
      "\n",
      "conversions:\n",
      "conv_id      0\n",
      "user_id      0\n",
      "conv_date    0\n",
      "market       0\n",
      "revenue      0\n",
      "dtype: int64\n"
     ]
    }
   ],
   "source": [
    "# checking for Nan's\n",
    "print(f'\\nsession_sources:\\n{session_sources.isna().sum()}')\n",
    "print(f'\\napi_word_cost:\\n{api_word_cost.isna().sum()}')\n",
    "print(f'\\nattri_jour:\\n{attri_jour.isna().sum()}')\n",
    "print(f'\\nconv_back\\n{conv_back.isna().sum()}')\n",
    "print(f'\\nconversions:\\n{conversions.isna().sum()}')"
   ]
  },
  {
   "cell_type": "code",
   "execution_count": 17,
   "id": "5ee1cd52",
   "metadata": {},
   "outputs": [
    {
     "name": "stdout",
     "output_type": "stream",
     "text": [
      "\n",
      "session_sources:\n",
      "0\n",
      "\n",
      "api_word_cost:\n",
      "0\n",
      "\n",
      "attri_jour:\n",
      "0\n",
      "\n",
      "conv_back\n",
      "0\n",
      "\n",
      "conversions:\n",
      "0\n"
     ]
    }
   ],
   "source": [
    "# checking for duplicates\n",
    "print(f'\\nsession_sources:\\n{session_sources.duplicated().sum()}')\n",
    "print(f'\\napi_word_cost:\\n{api_word_cost.duplicated().sum()}')\n",
    "print(f'\\nattri_jour:\\n{attri_jour.duplicated().sum()}')\n",
    "print(f'\\nconv_back\\n{conv_back.duplicated().sum()}')\n",
    "print(f'\\nconversions:\\n{conversions.duplicated().sum()}')"
   ]
  },
  {
   "cell_type": "markdown",
   "id": "af0d653b",
   "metadata": {},
   "source": [
    "So, our data has no null and duplicate values. Moving on to change the datatype of dates. "
   ]
  },
  {
   "cell_type": "code",
   "execution_count": 18,
   "id": "913726a3",
   "metadata": {},
   "outputs": [],
   "source": [
    "session_sources['event_date'] = pd.to_datetime(session_sources['event_date'])\n",
    "#session_sources['event_time']=session_sources['event_time'].astype('datetime64[ns]')\n",
    "conversions['conv_date']= pd.to_datetime(conversions['conv_date'])\n",
    "conv_back['conv_date'] = pd.to_datetime(conv_back['conv_date'])\n",
    "api_word_cost['event_date'] =  pd.to_datetime(api_word_cost['event_date'])"
   ]
  },
  {
   "cell_type": "markdown",
   "id": "a0ee9b2a",
   "metadata": {},
   "source": [
    "# 1. Are the costs in the 'api_adwords_costs' table fully covered in the 'session_sources' table? Any campaigns where you see issues?\n"
   ]
  },
  {
   "cell_type": "code",
   "execution_count": 19,
   "id": "8da5ef8f",
   "metadata": {},
   "outputs": [
    {
     "data": {
      "text/html": [
       "<div>\n",
       "<style scoped>\n",
       "    .dataframe tbody tr th:only-of-type {\n",
       "        vertical-align: middle;\n",
       "    }\n",
       "\n",
       "    .dataframe tbody tr th {\n",
       "        vertical-align: top;\n",
       "    }\n",
       "\n",
       "    .dataframe thead th {\n",
       "        text-align: right;\n",
       "    }\n",
       "</style>\n",
       "<table border=\"1\" class=\"dataframe\">\n",
       "  <thead>\n",
       "    <tr style=\"text-align: right;\">\n",
       "      <th></th>\n",
       "      <th>event_date</th>\n",
       "      <th>campaign_id</th>\n",
       "      <th>cost</th>\n",
       "      <th>clicks</th>\n",
       "    </tr>\n",
       "  </thead>\n",
       "  <tbody>\n",
       "    <tr>\n",
       "      <th>0</th>\n",
       "      <td>2021-07-04</td>\n",
       "      <td>campaign_id_149</td>\n",
       "      <td>3554.289</td>\n",
       "      <td>5256</td>\n",
       "    </tr>\n",
       "    <tr>\n",
       "      <th>1</th>\n",
       "      <td>2021-07-03</td>\n",
       "      <td>campaign_id_149</td>\n",
       "      <td>3021.879</td>\n",
       "      <td>6180</td>\n",
       "    </tr>\n",
       "  </tbody>\n",
       "</table>\n",
       "</div>"
      ],
      "text/plain": [
       "  event_date      campaign_id      cost  clicks\n",
       "0 2021-07-04  campaign_id_149  3554.289    5256\n",
       "1 2021-07-03  campaign_id_149  3021.879    6180"
      ]
     },
     "execution_count": 19,
     "metadata": {},
     "output_type": "execute_result"
    }
   ],
   "source": [
    "api_word_cost.head(2)"
   ]
  },
  {
   "cell_type": "code",
   "execution_count": 20,
   "id": "08fb6a0f",
   "metadata": {},
   "outputs": [
    {
     "data": {
      "text/plain": [
       "user_id_970731    208\n",
       "user_id_852745    176\n",
       "user_id_122789    151\n",
       "user_id_404623    139\n",
       "user_id_509513    125\n",
       "                 ... \n",
       "user_id_874540      1\n",
       "user_id_288930      1\n",
       "user_id_42737       1\n",
       "user_id_11665       1\n",
       "user_id_126689      1\n",
       "Name: user_id, Length: 1153719, dtype: int64"
      ]
     },
     "execution_count": 20,
     "metadata": {},
     "output_type": "execute_result"
    }
   ],
   "source": [
    "session_sources.user_id.value_counts()"
   ]
  },
  {
   "cell_type": "markdown",
   "id": "05fd7293",
   "metadata": {},
   "source": [
    "Assuming that the costs of api_adwords is equal to cost of sessions  for the particual campaign id to get it fully covered.\n",
    "For this:\n",
    "1. We will check whether all the campaigns are present in both tables\n",
    "2. We will see the difference in costs for each campaingn in the complete month."
   ]
  },
  {
   "cell_type": "code",
   "execution_count": 21,
   "id": "ff0d0395",
   "metadata": {},
   "outputs": [],
   "source": [
    "# let's look at how many campaigns are missing from api_adwords_cost data\n",
    "missing_campaigns = (session_sources\n",
    "    .assign(check_camp_id = session_sources['campaign_id'].isin(api_word_cost['campaign_id']))\n",
    "    .query(\"check_camp_id==False\")\n",
    "    #['campaign_id'].unique()\n",
    "    #['campaign_name'].unique()\n",
    "    #.size\n",
    "    )"
   ]
  },
  {
   "cell_type": "code",
   "execution_count": 22,
   "id": "2a61c384",
   "metadata": {},
   "outputs": [
    {
     "data": {
      "text/plain": [
       "array(['notset', 'campaign_id_81', 'campaign_id_124', 'campaign_id_1',\n",
       "       'campaign_id_85', 'campaign_id_46', 'campaign_id_47',\n",
       "       'campaign_id_23', 'campaign_id_112', 'campaign_id_76',\n",
       "       'campaign_id_137', 'campaign_id_90', 'campaign_id_131',\n",
       "       'campaign_id_40', 'campaign_id_136', 'campaign_id_13',\n",
       "       'campaign_id_88', 'campaign_id_152', 'campaign_id_8',\n",
       "       'campaign_id_109', 'campaign_id_129', 'campaign_id_128',\n",
       "       'campaign_id_62', 'campaign_id_145', 'campaign_id_33',\n",
       "       'campaign_id_115', 'campaign_id_120', 'campaign_id_38',\n",
       "       'campaign_id_98', 'campaign_id_162', 'campaign_id_166',\n",
       "       'campaign_id_139', 'campaign_id_125', 'campaign_id_108',\n",
       "       'campaign_id_16', 'campaign_id_161', 'campaign_id_123',\n",
       "       'campaign_id_39', 'campaign_id_105', 'campaign_id_34',\n",
       "       'campaign_id_159', 'campaign_id_153', 'campaign_id_117',\n",
       "       'campaign_id_165', 'campaign_id_102', 'campaign_id_151',\n",
       "       'campaign_id_119', 'campaign_id_58', 'campaign_id_87',\n",
       "       'campaign_id_36', 'campaign_id_104', 'campaign_id_37',\n",
       "       'campaign_id_31', 'campaign_id_20', 'campaign_id_72',\n",
       "       'campaign_id_164', 'campaign_id_11'], dtype=object)"
      ]
     },
     "execution_count": 22,
     "metadata": {},
     "output_type": "execute_result"
    }
   ],
   "source": [
    "missing_campaigns['campaign_id'].unique()"
   ]
  },
  {
   "cell_type": "markdown",
   "id": "93e5ca69",
   "metadata": {},
   "source": [
    "#### There are 1175 cmpaign names and 57 campaign ids are missing from api_adwords_cost table."
   ]
  },
  {
   "cell_type": "markdown",
   "id": "73e9d5e0",
   "metadata": {},
   "source": [
    "**Exploring the missing campaigns**\n",
    "- Check pattern in the channels, if there is any particular channel from which campaigns are missing."
   ]
  },
  {
   "cell_type": "code",
   "execution_count": 23,
   "id": "cb40499e",
   "metadata": {},
   "outputs": [
    {
     "data": {
      "text/plain": [
       "Text(0.5, 1.0, 'Missing records from different channels (for all missing campaigns)')"
      ]
     },
     "execution_count": 23,
     "metadata": {},
     "output_type": "execute_result"
    },
    {
     "data": {
      "image/png": "[encoded data removed]",
      "text/plain": [
       "<Figure size 720x360 with 1 Axes>"
      ]
     },
     "metadata": {
      "needs_background": "light"
     },
     "output_type": "display_data"
    }
   ],
   "source": [
    "missing_campaigns.groupby(\"channel_name\").agg({'channel_name':'count'}).plot(kind = 'bar', figsize=(10, 5))\n",
    "plt.ylabel(\"missing records\")\n",
    "plt.title(\"Missing records from different channels (for all missing campaigns)\")"
   ]
  },
  {
   "cell_type": "code",
   "execution_count": 24,
   "id": "6b3fa06a",
   "metadata": {},
   "outputs": [],
   "source": [
    "# some campaigns have more than one campaign names\n",
    "session_camp_name = session_sources.groupby(['campaign_id','campaign_name']).agg({'session_id':'count'})"
   ]
  },
  {
   "cell_type": "code",
   "execution_count": 25,
   "id": "15b8a4a1",
   "metadata": {},
   "outputs": [
    {
     "data": {
      "text/html": [
       "<div>\n",
       "<style scoped>\n",
       "    .dataframe tbody tr th:only-of-type {\n",
       "        vertical-align: middle;\n",
       "    }\n",
       "\n",
       "    .dataframe tbody tr th {\n",
       "        vertical-align: top;\n",
       "    }\n",
       "\n",
       "    .dataframe thead th {\n",
       "        text-align: right;\n",
       "    }\n",
       "</style>\n",
       "<table border=\"1\" class=\"dataframe\">\n",
       "  <thead>\n",
       "    <tr style=\"text-align: right;\">\n",
       "      <th></th>\n",
       "      <th></th>\n",
       "      <th>session_id</th>\n",
       "    </tr>\n",
       "    <tr>\n",
       "      <th>campaign_id</th>\n",
       "      <th>campaign_name</th>\n",
       "      <th></th>\n",
       "    </tr>\n",
       "  </thead>\n",
       "  <tbody>\n",
       "    <tr>\n",
       "      <th rowspan=\"2\" valign=\"top\">campaign_id_1</th>\n",
       "      <th>campaign_name_203</th>\n",
       "      <td>6</td>\n",
       "    </tr>\n",
       "    <tr>\n",
       "      <th>campaign_name_741</th>\n",
       "      <td>66</td>\n",
       "    </tr>\n",
       "    <tr>\n",
       "      <th rowspan=\"3\" valign=\"top\">campaign_id_10</th>\n",
       "      <th>campaign_name_13</th>\n",
       "      <td>10</td>\n",
       "    </tr>\n",
       "    <tr>\n",
       "      <th>campaign_name_203</th>\n",
       "      <td>22</td>\n",
       "    </tr>\n",
       "    <tr>\n",
       "      <th>campaign_name_741</th>\n",
       "      <td>8133</td>\n",
       "    </tr>\n",
       "    <tr>\n",
       "      <th>...</th>\n",
       "      <th>...</th>\n",
       "      <td>...</td>\n",
       "    </tr>\n",
       "    <tr>\n",
       "      <th rowspan=\"5\" valign=\"top\">notset</th>\n",
       "      <th>campaign_name_995</th>\n",
       "      <td>7</td>\n",
       "    </tr>\n",
       "    <tr>\n",
       "      <th>campaign_name_996</th>\n",
       "      <td>4863</td>\n",
       "    </tr>\n",
       "    <tr>\n",
       "      <th>campaign_name_997</th>\n",
       "      <td>3</td>\n",
       "    </tr>\n",
       "    <tr>\n",
       "      <th>campaign_name_998</th>\n",
       "      <td>4</td>\n",
       "    </tr>\n",
       "    <tr>\n",
       "      <th>campaign_name_999</th>\n",
       "      <td>2</td>\n",
       "    </tr>\n",
       "  </tbody>\n",
       "</table>\n",
       "<p>1382 rows × 1 columns</p>\n",
       "</div>"
      ],
      "text/plain": [
       "                                  session_id\n",
       "campaign_id    campaign_name                \n",
       "campaign_id_1  campaign_name_203           6\n",
       "               campaign_name_741          66\n",
       "campaign_id_10 campaign_name_13           10\n",
       "               campaign_name_203          22\n",
       "               campaign_name_741        8133\n",
       "...                                      ...\n",
       "notset         campaign_name_995           7\n",
       "               campaign_name_996        4863\n",
       "               campaign_name_997           3\n",
       "               campaign_name_998           4\n",
       "               campaign_name_999           2\n",
       "\n",
       "[1382 rows x 1 columns]"
      ]
     },
     "execution_count": 25,
     "metadata": {},
     "output_type": "execute_result"
    }
   ],
   "source": [
    "session_camp_name"
   ]
  },
  {
   "cell_type": "code",
   "execution_count": 26,
   "id": "b3e452ae",
   "metadata": {},
   "outputs": [
    {
     "data": {
      "text/html": [
       "<div>\n",
       "<style scoped>\n",
       "    .dataframe tbody tr th:only-of-type {\n",
       "        vertical-align: middle;\n",
       "    }\n",
       "\n",
       "    .dataframe tbody tr th {\n",
       "        vertical-align: top;\n",
       "    }\n",
       "\n",
       "    .dataframe thead th {\n",
       "        text-align: right;\n",
       "    }\n",
       "</style>\n",
       "<table border=\"1\" class=\"dataframe\">\n",
       "  <thead>\n",
       "    <tr style=\"text-align: right;\">\n",
       "      <th></th>\n",
       "      <th></th>\n",
       "      <th>session_id</th>\n",
       "    </tr>\n",
       "    <tr>\n",
       "      <th>campaign_id</th>\n",
       "      <th>campaign_name</th>\n",
       "      <th></th>\n",
       "    </tr>\n",
       "  </thead>\n",
       "  <tbody>\n",
       "    <tr>\n",
       "      <th rowspan=\"11\" valign=\"top\">notset</th>\n",
       "      <th>campaign_name_1</th>\n",
       "      <td>7</td>\n",
       "    </tr>\n",
       "    <tr>\n",
       "      <th>campaign_name_10</th>\n",
       "      <td>34438</td>\n",
       "    </tr>\n",
       "    <tr>\n",
       "      <th>campaign_name_100</th>\n",
       "      <td>3</td>\n",
       "    </tr>\n",
       "    <tr>\n",
       "      <th>campaign_name_1000</th>\n",
       "      <td>1</td>\n",
       "    </tr>\n",
       "    <tr>\n",
       "      <th>campaign_name_1001</th>\n",
       "      <td>1</td>\n",
       "    </tr>\n",
       "    <tr>\n",
       "      <th>...</th>\n",
       "      <td>...</td>\n",
       "    </tr>\n",
       "    <tr>\n",
       "      <th>campaign_name_995</th>\n",
       "      <td>7</td>\n",
       "    </tr>\n",
       "    <tr>\n",
       "      <th>campaign_name_996</th>\n",
       "      <td>4863</td>\n",
       "    </tr>\n",
       "    <tr>\n",
       "      <th>campaign_name_997</th>\n",
       "      <td>3</td>\n",
       "    </tr>\n",
       "    <tr>\n",
       "      <th>campaign_name_998</th>\n",
       "      <td>4</td>\n",
       "    </tr>\n",
       "    <tr>\n",
       "      <th>campaign_name_999</th>\n",
       "      <td>2</td>\n",
       "    </tr>\n",
       "  </tbody>\n",
       "</table>\n",
       "<p>1168 rows × 1 columns</p>\n",
       "</div>"
      ],
      "text/plain": [
       "                                session_id\n",
       "campaign_id campaign_name                 \n",
       "notset      campaign_name_1              7\n",
       "            campaign_name_10         34438\n",
       "            campaign_name_100            3\n",
       "            campaign_name_1000           1\n",
       "            campaign_name_1001           1\n",
       "...                                    ...\n",
       "            campaign_name_995            7\n",
       "            campaign_name_996         4863\n",
       "            campaign_name_997            3\n",
       "            campaign_name_998            4\n",
       "            campaign_name_999            2\n",
       "\n",
       "[1168 rows x 1 columns]"
      ]
     },
     "execution_count": 26,
     "metadata": {},
     "output_type": "execute_result"
    }
   ],
   "source": [
    "session_camp_name.query(\"campaign_id =='notset'\")"
   ]
  },
  {
   "cell_type": "markdown",
   "id": "494af409",
   "metadata": {},
   "source": [
    "Now we will look at if the costs are fully covered or not. For this, we calculate the costs perclick for api_adwords and then compare it with the session costs."
   ]
  },
  {
   "cell_type": "code",
   "execution_count": 27,
   "id": "31b9e0e4",
   "metadata": {},
   "outputs": [],
   "source": [
    "#cost perclick for api_word_cost\n",
    "api_word_cost['cpc_awc']= api_word_cost['cost']/api_word_cost['clicks']"
   ]
  },
  {
   "cell_type": "code",
   "execution_count": 28,
   "id": "a2040924",
   "metadata": {},
   "outputs": [
    {
     "data": {
      "text/html": [
       "<div>\n",
       "<style scoped>\n",
       "    .dataframe tbody tr th:only-of-type {\n",
       "        vertical-align: middle;\n",
       "    }\n",
       "\n",
       "    .dataframe tbody tr th {\n",
       "        vertical-align: top;\n",
       "    }\n",
       "\n",
       "    .dataframe thead th {\n",
       "        text-align: right;\n",
       "    }\n",
       "</style>\n",
       "<table border=\"1\" class=\"dataframe\">\n",
       "  <thead>\n",
       "    <tr style=\"text-align: right;\">\n",
       "      <th></th>\n",
       "      <th>event_date</th>\n",
       "      <th>campaign_id</th>\n",
       "      <th>cost</th>\n",
       "      <th>clicks</th>\n",
       "      <th>cpc_awc</th>\n",
       "    </tr>\n",
       "  </thead>\n",
       "  <tbody>\n",
       "    <tr>\n",
       "      <th>2302</th>\n",
       "      <td>2021-07-02</td>\n",
       "      <td>campaign_id_156</td>\n",
       "      <td>7.031</td>\n",
       "      <td>0</td>\n",
       "      <td>inf</td>\n",
       "    </tr>\n",
       "    <tr>\n",
       "      <th>2309</th>\n",
       "      <td>2021-07-17</td>\n",
       "      <td>campaign_id_94</td>\n",
       "      <td>6.975</td>\n",
       "      <td>0</td>\n",
       "      <td>inf</td>\n",
       "    </tr>\n",
       "    <tr>\n",
       "      <th>2410</th>\n",
       "      <td>2021-07-11</td>\n",
       "      <td>campaign_id_94</td>\n",
       "      <td>5.976</td>\n",
       "      <td>0</td>\n",
       "      <td>inf</td>\n",
       "    </tr>\n",
       "    <tr>\n",
       "      <th>2595</th>\n",
       "      <td>2021-07-04</td>\n",
       "      <td>campaign_id_94</td>\n",
       "      <td>3.908</td>\n",
       "      <td>0</td>\n",
       "      <td>inf</td>\n",
       "    </tr>\n",
       "    <tr>\n",
       "      <th>2603</th>\n",
       "      <td>2021-07-05</td>\n",
       "      <td>campaign_id_156</td>\n",
       "      <td>3.816</td>\n",
       "      <td>0</td>\n",
       "      <td>inf</td>\n",
       "    </tr>\n",
       "    <tr>\n",
       "      <th>2640</th>\n",
       "      <td>2021-07-10</td>\n",
       "      <td>campaign_id_94</td>\n",
       "      <td>3.458</td>\n",
       "      <td>0</td>\n",
       "      <td>inf</td>\n",
       "    </tr>\n",
       "    <tr>\n",
       "      <th>2795</th>\n",
       "      <td>2021-07-01</td>\n",
       "      <td>campaign_id_7</td>\n",
       "      <td>1.844</td>\n",
       "      <td>0</td>\n",
       "      <td>inf</td>\n",
       "    </tr>\n",
       "    <tr>\n",
       "      <th>2862</th>\n",
       "      <td>2021-07-20</td>\n",
       "      <td>campaign_id_94</td>\n",
       "      <td>1.368</td>\n",
       "      <td>0</td>\n",
       "      <td>inf</td>\n",
       "    </tr>\n",
       "    <tr>\n",
       "      <th>2889</th>\n",
       "      <td>2021-07-09</td>\n",
       "      <td>campaign_id_7</td>\n",
       "      <td>1.108</td>\n",
       "      <td>0</td>\n",
       "      <td>inf</td>\n",
       "    </tr>\n",
       "    <tr>\n",
       "      <th>2894</th>\n",
       "      <td>2021-07-20</td>\n",
       "      <td>campaign_id_7</td>\n",
       "      <td>1.067</td>\n",
       "      <td>0</td>\n",
       "      <td>inf</td>\n",
       "    </tr>\n",
       "  </tbody>\n",
       "</table>\n",
       "</div>"
      ],
      "text/plain": [
       "     event_date      campaign_id   cost  clicks  cpc_awc\n",
       "2302 2021-07-02  campaign_id_156  7.031       0      inf\n",
       "2309 2021-07-17   campaign_id_94  6.975       0      inf\n",
       "2410 2021-07-11   campaign_id_94  5.976       0      inf\n",
       "2595 2021-07-04   campaign_id_94  3.908       0      inf\n",
       "2603 2021-07-05  campaign_id_156  3.816       0      inf\n",
       "2640 2021-07-10   campaign_id_94  3.458       0      inf\n",
       "2795 2021-07-01    campaign_id_7  1.844       0      inf\n",
       "2862 2021-07-20   campaign_id_94  1.368       0      inf\n",
       "2889 2021-07-09    campaign_id_7  1.108       0      inf\n",
       "2894 2021-07-20    campaign_id_7  1.067       0      inf"
      ]
     },
     "execution_count": 28,
     "metadata": {},
     "output_type": "execute_result"
    }
   ],
   "source": [
    "api_word_cost.query(\"clicks==0\")"
   ]
  },
  {
   "cell_type": "markdown",
   "id": "ca233fe6",
   "metadata": {},
   "source": [
    "So assuming that no costs paid for 0 clicks and making their costs per clicks as 0 (instead of infinite)"
   ]
  },
  {
   "cell_type": "code",
   "execution_count": 29,
   "id": "3946527b",
   "metadata": {},
   "outputs": [],
   "source": [
    "api_word_cost.replace(np.inf, 0, inplace=True)"
   ]
  },
  {
   "cell_type": "code",
   "execution_count": 30,
   "id": "14fcc25e",
   "metadata": {},
   "outputs": [
    {
     "data": {
      "text/html": [
       "<div>\n",
       "<style scoped>\n",
       "    .dataframe tbody tr th:only-of-type {\n",
       "        vertical-align: middle;\n",
       "    }\n",
       "\n",
       "    .dataframe tbody tr th {\n",
       "        vertical-align: top;\n",
       "    }\n",
       "\n",
       "    .dataframe thead th {\n",
       "        text-align: right;\n",
       "    }\n",
       "</style>\n",
       "<table border=\"1\" class=\"dataframe\">\n",
       "  <thead>\n",
       "    <tr style=\"text-align: right;\">\n",
       "      <th></th>\n",
       "      <th>event_date</th>\n",
       "      <th>campaign_id</th>\n",
       "      <th>cost</th>\n",
       "      <th>clicks</th>\n",
       "      <th>cpc_awc</th>\n",
       "    </tr>\n",
       "  </thead>\n",
       "  <tbody>\n",
       "    <tr>\n",
       "      <th>2302</th>\n",
       "      <td>2021-07-02</td>\n",
       "      <td>campaign_id_156</td>\n",
       "      <td>7.031</td>\n",
       "      <td>0</td>\n",
       "      <td>0.0</td>\n",
       "    </tr>\n",
       "    <tr>\n",
       "      <th>2309</th>\n",
       "      <td>2021-07-17</td>\n",
       "      <td>campaign_id_94</td>\n",
       "      <td>6.975</td>\n",
       "      <td>0</td>\n",
       "      <td>0.0</td>\n",
       "    </tr>\n",
       "    <tr>\n",
       "      <th>2410</th>\n",
       "      <td>2021-07-11</td>\n",
       "      <td>campaign_id_94</td>\n",
       "      <td>5.976</td>\n",
       "      <td>0</td>\n",
       "      <td>0.0</td>\n",
       "    </tr>\n",
       "    <tr>\n",
       "      <th>2595</th>\n",
       "      <td>2021-07-04</td>\n",
       "      <td>campaign_id_94</td>\n",
       "      <td>3.908</td>\n",
       "      <td>0</td>\n",
       "      <td>0.0</td>\n",
       "    </tr>\n",
       "    <tr>\n",
       "      <th>2603</th>\n",
       "      <td>2021-07-05</td>\n",
       "      <td>campaign_id_156</td>\n",
       "      <td>3.816</td>\n",
       "      <td>0</td>\n",
       "      <td>0.0</td>\n",
       "    </tr>\n",
       "    <tr>\n",
       "      <th>2640</th>\n",
       "      <td>2021-07-10</td>\n",
       "      <td>campaign_id_94</td>\n",
       "      <td>3.458</td>\n",
       "      <td>0</td>\n",
       "      <td>0.0</td>\n",
       "    </tr>\n",
       "    <tr>\n",
       "      <th>2795</th>\n",
       "      <td>2021-07-01</td>\n",
       "      <td>campaign_id_7</td>\n",
       "      <td>1.844</td>\n",
       "      <td>0</td>\n",
       "      <td>0.0</td>\n",
       "    </tr>\n",
       "    <tr>\n",
       "      <th>2862</th>\n",
       "      <td>2021-07-20</td>\n",
       "      <td>campaign_id_94</td>\n",
       "      <td>1.368</td>\n",
       "      <td>0</td>\n",
       "      <td>0.0</td>\n",
       "    </tr>\n",
       "    <tr>\n",
       "      <th>2889</th>\n",
       "      <td>2021-07-09</td>\n",
       "      <td>campaign_id_7</td>\n",
       "      <td>1.108</td>\n",
       "      <td>0</td>\n",
       "      <td>0.0</td>\n",
       "    </tr>\n",
       "    <tr>\n",
       "      <th>2894</th>\n",
       "      <td>2021-07-20</td>\n",
       "      <td>campaign_id_7</td>\n",
       "      <td>1.067</td>\n",
       "      <td>0</td>\n",
       "      <td>0.0</td>\n",
       "    </tr>\n",
       "  </tbody>\n",
       "</table>\n",
       "</div>"
      ],
      "text/plain": [
       "     event_date      campaign_id   cost  clicks  cpc_awc\n",
       "2302 2021-07-02  campaign_id_156  7.031       0      0.0\n",
       "2309 2021-07-17   campaign_id_94  6.975       0      0.0\n",
       "2410 2021-07-11   campaign_id_94  5.976       0      0.0\n",
       "2595 2021-07-04   campaign_id_94  3.908       0      0.0\n",
       "2603 2021-07-05  campaign_id_156  3.816       0      0.0\n",
       "2640 2021-07-10   campaign_id_94  3.458       0      0.0\n",
       "2795 2021-07-01    campaign_id_7  1.844       0      0.0\n",
       "2862 2021-07-20   campaign_id_94  1.368       0      0.0\n",
       "2889 2021-07-09    campaign_id_7  1.108       0      0.0\n",
       "2894 2021-07-20    campaign_id_7  1.067       0      0.0"
      ]
     },
     "execution_count": 30,
     "metadata": {},
     "output_type": "execute_result"
    }
   ],
   "source": [
    "api_word_cost.query(\"clicks==0\")"
   ]
  },
  {
   "cell_type": "code",
   "execution_count": 31,
   "id": "c83486f1",
   "metadata": {},
   "outputs": [],
   "source": [
    "# grouping all the campagins together and summing the cost for that particular campaign in both api_adwords_costs and session_sources costs\n",
    "api_cost = api_word_cost.groupby('campaign_id').agg({'cpc_awc':'sum'}).reset_index()\n",
    "session_cost = session_sources.groupby(['campaign_id']).agg({'cpc':'sum'}).reset_index()"
   ]
  },
  {
   "cell_type": "markdown",
   "id": "af1015c7",
   "metadata": {},
   "source": [
    "After looking that there is some cpc generated from the campaigns whose id are notset, we can not remove them."
   ]
  },
  {
   "cell_type": "code",
   "execution_count": 32,
   "id": "395df703",
   "metadata": {},
   "outputs": [
    {
     "name": "stdout",
     "output_type": "stream",
     "text": [
      "(109, 2)\n",
      "(164, 2)\n"
     ]
    }
   ],
   "source": [
    "print(api_cost.shape)\n",
    "print(session_cost.shape)"
   ]
  },
  {
   "cell_type": "markdown",
   "id": "6c0f0a13",
   "metadata": {},
   "source": [
    "The campaign_id's from both the table should come same but there is some issue."
   ]
  },
  {
   "cell_type": "code",
   "execution_count": 33,
   "id": "349935f4",
   "metadata": {},
   "outputs": [],
   "source": [
    "# let's merge both tables to see the difference between both cost w.r.t campaign_id\n",
    "costs_tab =  api_cost.merge(session_cost, how='right', on='campaign_id')"
   ]
  },
  {
   "cell_type": "code",
   "execution_count": 34,
   "id": "508cc509",
   "metadata": {},
   "outputs": [
    {
     "data": {
      "text/html": [
       "<div>\n",
       "<style scoped>\n",
       "    .dataframe tbody tr th:only-of-type {\n",
       "        vertical-align: middle;\n",
       "    }\n",
       "\n",
       "    .dataframe tbody tr th {\n",
       "        vertical-align: top;\n",
       "    }\n",
       "\n",
       "    .dataframe thead th {\n",
       "        text-align: right;\n",
       "    }\n",
       "</style>\n",
       "<table border=\"1\" class=\"dataframe\">\n",
       "  <thead>\n",
       "    <tr style=\"text-align: right;\">\n",
       "      <th></th>\n",
       "      <th>campaign_id</th>\n",
       "      <th>cpc_awc</th>\n",
       "      <th>cpc</th>\n",
       "    </tr>\n",
       "  </thead>\n",
       "  <tbody>\n",
       "    <tr>\n",
       "      <th>0</th>\n",
       "      <td>campaign_id_1</td>\n",
       "      <td>NaN</td>\n",
       "      <td>1.144</td>\n",
       "    </tr>\n",
       "    <tr>\n",
       "      <th>1</th>\n",
       "      <td>campaign_id_10</td>\n",
       "      <td>28.492615</td>\n",
       "      <td>6833.461</td>\n",
       "    </tr>\n",
       "  </tbody>\n",
       "</table>\n",
       "</div>"
      ],
      "text/plain": [
       "      campaign_id    cpc_awc       cpc\n",
       "0   campaign_id_1        NaN     1.144\n",
       "1  campaign_id_10  28.492615  6833.461"
      ]
     },
     "execution_count": 34,
     "metadata": {},
     "output_type": "execute_result"
    }
   ],
   "source": [
    "costs_tab.head(2)"
   ]
  },
  {
   "cell_type": "code",
   "execution_count": 35,
   "id": "14abc89f",
   "metadata": {},
   "outputs": [],
   "source": [
    "# difference bwtween the costs\n",
    "costs_tab['cost_diff']= costs_tab['cpc']-costs_tab['cpc_awc']"
   ]
  },
  {
   "cell_type": "code",
   "execution_count": 36,
   "id": "be2c899a",
   "metadata": {},
   "outputs": [
    {
     "data": {
      "text/html": [
       "<div>\n",
       "<style scoped>\n",
       "    .dataframe tbody tr th:only-of-type {\n",
       "        vertical-align: middle;\n",
       "    }\n",
       "\n",
       "    .dataframe tbody tr th {\n",
       "        vertical-align: top;\n",
       "    }\n",
       "\n",
       "    .dataframe thead th {\n",
       "        text-align: right;\n",
       "    }\n",
       "</style>\n",
       "<table border=\"1\" class=\"dataframe\">\n",
       "  <thead>\n",
       "    <tr style=\"text-align: right;\">\n",
       "      <th></th>\n",
       "      <th>campaign_id</th>\n",
       "      <th>cpc_awc</th>\n",
       "      <th>cpc</th>\n",
       "      <th>cost_diff</th>\n",
       "    </tr>\n",
       "  </thead>\n",
       "  <tbody>\n",
       "    <tr>\n",
       "      <th>0</th>\n",
       "      <td>campaign_id_1</td>\n",
       "      <td>NaN</td>\n",
       "      <td>1.144</td>\n",
       "      <td>NaN</td>\n",
       "    </tr>\n",
       "    <tr>\n",
       "      <th>1</th>\n",
       "      <td>campaign_id_10</td>\n",
       "      <td>28.492615</td>\n",
       "      <td>6833.461</td>\n",
       "      <td>6804.968385</td>\n",
       "    </tr>\n",
       "  </tbody>\n",
       "</table>\n",
       "</div>"
      ],
      "text/plain": [
       "      campaign_id    cpc_awc       cpc    cost_diff\n",
       "0   campaign_id_1        NaN     1.144          NaN\n",
       "1  campaign_id_10  28.492615  6833.461  6804.968385"
      ]
     },
     "execution_count": 36,
     "metadata": {},
     "output_type": "execute_result"
    }
   ],
   "source": [
    "costs_tab.head(2)"
   ]
  },
  {
   "cell_type": "code",
   "execution_count": 37,
   "id": "61dad6d4",
   "metadata": {},
   "outputs": [
    {
     "data": {
      "text/html": [
       "<div>\n",
       "<style scoped>\n",
       "    .dataframe tbody tr th:only-of-type {\n",
       "        vertical-align: middle;\n",
       "    }\n",
       "\n",
       "    .dataframe tbody tr th {\n",
       "        vertical-align: top;\n",
       "    }\n",
       "\n",
       "    .dataframe thead th {\n",
       "        text-align: right;\n",
       "    }\n",
       "</style>\n",
       "<table border=\"1\" class=\"dataframe\">\n",
       "  <thead>\n",
       "    <tr style=\"text-align: right;\">\n",
       "      <th></th>\n",
       "      <th>cpc_awc</th>\n",
       "      <th>cpc</th>\n",
       "      <th>cost_diff</th>\n",
       "    </tr>\n",
       "  </thead>\n",
       "  <tbody>\n",
       "    <tr>\n",
       "      <th>count</th>\n",
       "      <td>107.000000</td>\n",
       "      <td>164.000000</td>\n",
       "      <td>107.000000</td>\n",
       "    </tr>\n",
       "    <tr>\n",
       "      <th>mean</th>\n",
       "      <td>28.993869</td>\n",
       "      <td>4148.012006</td>\n",
       "      <td>4106.083972</td>\n",
       "    </tr>\n",
       "    <tr>\n",
       "      <th>std</th>\n",
       "      <td>21.729930</td>\n",
       "      <td>19660.146872</td>\n",
       "      <td>8376.069972</td>\n",
       "    </tr>\n",
       "    <tr>\n",
       "      <th>min</th>\n",
       "      <td>0.560650</td>\n",
       "      <td>0.000000</td>\n",
       "      <td>-24.974833</td>\n",
       "    </tr>\n",
       "    <tr>\n",
       "      <th>25%</th>\n",
       "      <td>16.042170</td>\n",
       "      <td>0.000000</td>\n",
       "      <td>224.956798</td>\n",
       "    </tr>\n",
       "    <tr>\n",
       "      <th>50%</th>\n",
       "      <td>24.396861</td>\n",
       "      <td>245.228500</td>\n",
       "      <td>884.282087</td>\n",
       "    </tr>\n",
       "    <tr>\n",
       "      <th>75%</th>\n",
       "      <td>35.064177</td>\n",
       "      <td>1873.338750</td>\n",
       "      <td>4708.813745</td>\n",
       "    </tr>\n",
       "    <tr>\n",
       "      <th>max</th>\n",
       "      <td>141.791919</td>\n",
       "      <td>237814.424000</td>\n",
       "      <td>62117.010620</td>\n",
       "    </tr>\n",
       "  </tbody>\n",
       "</table>\n",
       "</div>"
      ],
      "text/plain": [
       "          cpc_awc            cpc     cost_diff\n",
       "count  107.000000     164.000000    107.000000\n",
       "mean    28.993869    4148.012006   4106.083972\n",
       "std     21.729930   19660.146872   8376.069972\n",
       "min      0.560650       0.000000    -24.974833\n",
       "25%     16.042170       0.000000    224.956798\n",
       "50%     24.396861     245.228500    884.282087\n",
       "75%     35.064177    1873.338750   4708.813745\n",
       "max    141.791919  237814.424000  62117.010620"
      ]
     },
     "execution_count": 37,
     "metadata": {},
     "output_type": "execute_result"
    }
   ],
   "source": [
    "costs_tab.describe()"
   ]
  },
  {
   "cell_type": "code",
   "execution_count": 38,
   "id": "703b96cb",
   "metadata": {},
   "outputs": [
    {
     "data": {
      "text/plain": [
       "<AxesSubplot:>"
      ]
     },
     "execution_count": 38,
     "metadata": {},
     "output_type": "execute_result"
    },
    {
     "data": {
      "image/png": "[encoded data removed]",
      "text/plain": [
       "<Figure size 432x288 with 1 Axes>"
      ]
     },
     "metadata": {
      "needs_background": "light"
     },
     "output_type": "display_data"
    }
   ],
   "source": [
    "costs_tab.boxplot()"
   ]
  },
  {
   "cell_type": "markdown",
   "id": "d1409d4b",
   "metadata": {},
   "source": [
    "Seems like there is an outlier, for now we are not removing them because there are some campaigns which have no campaign ids but are generating revenues. Also, our main focus is to see which campaigns are underperforming , therefore this outlier will have no impact on our analysis.  "
   ]
  },
  {
   "cell_type": "code",
   "execution_count": 39,
   "id": "0d77ccf8",
   "metadata": {},
   "outputs": [
    {
     "data": {
      "text/plain": [
       "campaign_id     0\n",
       "cpc_awc        57\n",
       "cpc             0\n",
       "cost_diff      57\n",
       "dtype: int64"
      ]
     },
     "execution_count": 39,
     "metadata": {},
     "output_type": "execute_result"
    }
   ],
   "source": [
    "costs_tab.isna().sum()"
   ]
  },
  {
   "cell_type": "markdown",
   "id": "6bd9a241",
   "metadata": {},
   "source": [
    "There are 57 campaign_ids for which there is either no click happened or no data recorded."
   ]
  },
  {
   "cell_type": "code",
   "execution_count": 40,
   "id": "b4e30ca6",
   "metadata": {},
   "outputs": [
    {
     "data": {
      "text/html": [
       "<div>\n",
       "<style scoped>\n",
       "    .dataframe tbody tr th:only-of-type {\n",
       "        vertical-align: middle;\n",
       "    }\n",
       "\n",
       "    .dataframe tbody tr th {\n",
       "        vertical-align: top;\n",
       "    }\n",
       "\n",
       "    .dataframe thead th {\n",
       "        text-align: right;\n",
       "    }\n",
       "</style>\n",
       "<table border=\"1\" class=\"dataframe\">\n",
       "  <thead>\n",
       "    <tr style=\"text-align: right;\">\n",
       "      <th></th>\n",
       "      <th>campaign_id</th>\n",
       "      <th>cpc_awc</th>\n",
       "      <th>cpc</th>\n",
       "      <th>cost_diff</th>\n",
       "    </tr>\n",
       "  </thead>\n",
       "  <tbody>\n",
       "    <tr>\n",
       "      <th>0</th>\n",
       "      <td>campaign_id_1</td>\n",
       "      <td>NaN</td>\n",
       "      <td>1.144</td>\n",
       "      <td>NaN</td>\n",
       "    </tr>\n",
       "    <tr>\n",
       "      <th>1</th>\n",
       "      <td>campaign_id_10</td>\n",
       "      <td>28.492615</td>\n",
       "      <td>6833.461</td>\n",
       "      <td>6804.968385</td>\n",
       "    </tr>\n",
       "    <tr>\n",
       "      <th>2</th>\n",
       "      <td>campaign_id_100</td>\n",
       "      <td>19.028347</td>\n",
       "      <td>313.633</td>\n",
       "      <td>294.604653</td>\n",
       "    </tr>\n",
       "    <tr>\n",
       "      <th>3</th>\n",
       "      <td>campaign_id_101</td>\n",
       "      <td>16.935824</td>\n",
       "      <td>117.070</td>\n",
       "      <td>100.134176</td>\n",
       "    </tr>\n",
       "    <tr>\n",
       "      <th>4</th>\n",
       "      <td>campaign_id_102</td>\n",
       "      <td>NaN</td>\n",
       "      <td>0.000</td>\n",
       "      <td>NaN</td>\n",
       "    </tr>\n",
       "    <tr>\n",
       "      <th>...</th>\n",
       "      <td>...</td>\n",
       "      <td>...</td>\n",
       "      <td>...</td>\n",
       "      <td>...</td>\n",
       "    </tr>\n",
       "    <tr>\n",
       "      <th>159</th>\n",
       "      <td>campaign_id_95</td>\n",
       "      <td>27.661667</td>\n",
       "      <td>72.280</td>\n",
       "      <td>44.618333</td>\n",
       "    </tr>\n",
       "    <tr>\n",
       "      <th>160</th>\n",
       "      <td>campaign_id_96</td>\n",
       "      <td>77.128198</td>\n",
       "      <td>305.028</td>\n",
       "      <td>227.899802</td>\n",
       "    </tr>\n",
       "    <tr>\n",
       "      <th>161</th>\n",
       "      <td>campaign_id_98</td>\n",
       "      <td>NaN</td>\n",
       "      <td>0.000</td>\n",
       "      <td>NaN</td>\n",
       "    </tr>\n",
       "    <tr>\n",
       "      <th>162</th>\n",
       "      <td>campaign_id_99</td>\n",
       "      <td>12.464064</td>\n",
       "      <td>677.328</td>\n",
       "      <td>664.863936</td>\n",
       "    </tr>\n",
       "    <tr>\n",
       "      <th>163</th>\n",
       "      <td>notset</td>\n",
       "      <td>NaN</td>\n",
       "      <td>237814.424</td>\n",
       "      <td>NaN</td>\n",
       "    </tr>\n",
       "  </tbody>\n",
       "</table>\n",
       "<p>164 rows × 4 columns</p>\n",
       "</div>"
      ],
      "text/plain": [
       "         campaign_id    cpc_awc         cpc    cost_diff\n",
       "0      campaign_id_1        NaN       1.144          NaN\n",
       "1     campaign_id_10  28.492615    6833.461  6804.968385\n",
       "2    campaign_id_100  19.028347     313.633   294.604653\n",
       "3    campaign_id_101  16.935824     117.070   100.134176\n",
       "4    campaign_id_102        NaN       0.000          NaN\n",
       "..               ...        ...         ...          ...\n",
       "159   campaign_id_95  27.661667      72.280    44.618333\n",
       "160   campaign_id_96  77.128198     305.028   227.899802\n",
       "161   campaign_id_98        NaN       0.000          NaN\n",
       "162   campaign_id_99  12.464064     677.328   664.863936\n",
       "163           notset        NaN  237814.424          NaN\n",
       "\n",
       "[164 rows x 4 columns]"
      ]
     },
     "execution_count": 40,
     "metadata": {},
     "output_type": "execute_result"
    }
   ],
   "source": [
    "costs_tab"
   ]
  },
  {
   "cell_type": "markdown",
   "id": "26ceb823",
   "metadata": {},
   "source": []
  },
  {
   "cell_type": "code",
   "execution_count": 41,
   "id": "c2dc7216",
   "metadata": {},
   "outputs": [],
   "source": [
    "# checking in percent\n",
    "costs_tab['cost_diff_pct']=(costs_tab['cost_diff']/costs_tab['cpc'])*100"
   ]
  },
  {
   "cell_type": "markdown",
   "id": "9cd5026a",
   "metadata": {},
   "source": [
    "Let's see if there is any particular channel."
   ]
  },
  {
   "cell_type": "code",
   "execution_count": 42,
   "id": "d76b9c45",
   "metadata": {
    "scrolled": true
   },
   "outputs": [
    {
     "data": {
      "text/html": [
       "<div>\n",
       "<style scoped>\n",
       "    .dataframe tbody tr th:only-of-type {\n",
       "        vertical-align: middle;\n",
       "    }\n",
       "\n",
       "    .dataframe tbody tr th {\n",
       "        vertical-align: top;\n",
       "    }\n",
       "\n",
       "    .dataframe thead th {\n",
       "        text-align: right;\n",
       "    }\n",
       "</style>\n",
       "<table border=\"1\" class=\"dataframe\">\n",
       "  <thead>\n",
       "    <tr style=\"text-align: right;\">\n",
       "      <th></th>\n",
       "      <th>campaign_id</th>\n",
       "      <th>cpc_awc</th>\n",
       "      <th>cpc</th>\n",
       "      <th>cost_diff</th>\n",
       "      <th>cost_diff_pct</th>\n",
       "    </tr>\n",
       "  </thead>\n",
       "  <tbody>\n",
       "    <tr>\n",
       "      <th>142</th>\n",
       "      <td>campaign_id_79</td>\n",
       "      <td>15.557979</td>\n",
       "      <td>0.00</td>\n",
       "      <td>-15.557979</td>\n",
       "      <td>-inf</td>\n",
       "    </tr>\n",
       "    <tr>\n",
       "      <th>158</th>\n",
       "      <td>campaign_id_94</td>\n",
       "      <td>65.714833</td>\n",
       "      <td>40.74</td>\n",
       "      <td>-24.974833</td>\n",
       "      <td>-61.302978</td>\n",
       "    </tr>\n",
       "  </tbody>\n",
       "</table>\n",
       "</div>"
      ],
      "text/plain": [
       "        campaign_id    cpc_awc    cpc  cost_diff  cost_diff_pct\n",
       "142  campaign_id_79  15.557979   0.00 -15.557979           -inf\n",
       "158  campaign_id_94  65.714833  40.74 -24.974833     -61.302978"
      ]
     },
     "execution_count": 42,
     "metadata": {},
     "output_type": "execute_result"
    }
   ],
   "source": [
    "#underperforming campaigns\n",
    "costs_tab.loc[(costs_tab['cost_diff'] <=0) ]"
   ]
  },
  {
   "cell_type": "markdown",
   "id": "fa31b75c",
   "metadata": {},
   "source": [
    " We will have closer look to campaign_id_79 and campaign_id_94 and see \n",
    " - What names are under them?\n",
    " - Which channels are not a good source for these campaigns?\n",
    " - Which market is not better for the campaigns?\n",
    " - Which time is not suitable for these campaigns to get more clicks?"
   ]
  },
  {
   "cell_type": "code",
   "execution_count": 43,
   "id": "eb915e3e",
   "metadata": {},
   "outputs": [],
   "source": [
    "def digging_campaigns(campaign_id):\n",
    "    c_name = session_sources.loc[(session_sources['campaign_id'] ==f'{campaign_id}') ]\n",
    "    print( f'The campaign names in the {campaign_id} are\\n{c_name.campaign_name.value_counts()}')\n",
    "    camp_channel = c_name.channel_name.value_counts()\n",
    "    print(f'\\nThe campaign channels in the {campaign_id} are\\n{camp_channel}')\n",
    "    plot = c_name.groupby(\"event_time\").agg({'event_time':'count'}).plot(figsize=(10, 5))\n",
    "    plt.title(\"Time when sessions are not clicked\")\n",
    "    print(f'\\nThe campaign markets in the {campaign_id} are\\n{c_name.market.value_counts()}')\n",
    "    camp_users = c_name.groupby('user_id').agg({'session_id':'count'}).sort_values('session_id', ascending = False).reset_index().head(10)\n",
    "    print(f'\\nThe top 10 users who have more than one session on {campaign_id} \\n{camp_users}')\n",
    "    return(plot)\n",
    "    "
   ]
  },
  {
   "cell_type": "code",
   "execution_count": 44,
   "id": "26240b4d",
   "metadata": {},
   "outputs": [
    {
     "name": "stdout",
     "output_type": "stream",
     "text": [
      "The campaign names in the campaign_id_79 are\n",
      "campaign_name_741     20363\n",
      "campaign_name_349       464\n",
      "campaign_name_711        94\n",
      "campaign_name_593         3\n",
      "campaign_name_1119        2\n",
      "campaign_name_578         1\n",
      "Name: campaign_name, dtype: int64\n",
      "\n",
      "The campaign channels in the campaign_id_79 are\n",
      "Shopping - Non-branded    20914\n",
      "SEO                          11\n",
      "SEA - Non-Brand               2\n",
      "Name: channel_name, dtype: int64\n",
      "\n",
      "The campaign markets in the campaign_id_79 are\n",
      "NL    20921\n",
      "GB        4\n",
      "DE        2\n",
      "Name: market, dtype: int64\n",
      "\n",
      "The top 10 users who have more than one session on campaign_id_79 \n",
      "          user_id  session_id\n",
      "0  user_id_288609          27\n",
      "1  user_id_967060          27\n",
      "2  user_id_536445          26\n",
      "3  user_id_462034          25\n",
      "4  user_id_920082          23\n",
      "5  user_id_536245          22\n",
      "6  user_id_227812          22\n",
      "7  user_id_227794          19\n",
      "8  user_id_751065          19\n",
      "9  user_id_848973          19\n"
     ]
    },
    {
     "data": {
      "text/plain": [
       "<AxesSubplot:title={'center':'Time when sessions are not clicked'}, xlabel='event_time'>"
      ]
     },
     "execution_count": 44,
     "metadata": {},
     "output_type": "execute_result"
    },
    {
     "data": {
      "image/png": "[encoded data removed]",
      "text/plain": [
       "<Figure size 720x360 with 1 Axes>"
      ]
     },
     "metadata": {
      "needs_background": "light"
     },
     "output_type": "display_data"
    }
   ],
   "source": [
    "digging_campaigns('campaign_id_79')"
   ]
  },
  {
   "cell_type": "code",
   "execution_count": 45,
   "id": "903752a2",
   "metadata": {},
   "outputs": [],
   "source": [
    "#c_79.loc[(c_79['channel_name'] =='Shopping - Non-branded') ]"
   ]
  },
  {
   "cell_type": "code",
   "execution_count": 46,
   "id": "036f89a2",
   "metadata": {},
   "outputs": [
    {
     "name": "stdout",
     "output_type": "stream",
     "text": [
      "The campaign names in the campaign_id_94 are\n",
      "campaign_name_741    21\n",
      "Name: campaign_name, dtype: int64\n",
      "\n",
      "The campaign channels in the campaign_id_94 are\n",
      "Video Marketing    21\n",
      "Name: channel_name, dtype: int64\n",
      "\n",
      "The campaign markets in the campaign_id_94 are\n",
      "DE    21\n",
      "Name: market, dtype: int64\n",
      "\n",
      "The top 10 users who have more than one session on campaign_id_94 \n",
      "           user_id  session_id\n",
      "0   user_id_357166           2\n",
      "1  user_id_1036174           1\n",
      "2   user_id_471984           1\n",
      "3   user_id_866276           1\n",
      "4   user_id_864143           1\n",
      "5   user_id_842566           1\n",
      "6   user_id_759755           1\n",
      "7   user_id_654419           1\n",
      "8   user_id_618766           1\n",
      "9   user_id_594310           1\n"
     ]
    },
    {
     "data": {
      "text/plain": [
       "<AxesSubplot:title={'center':'Time when sessions are not clicked'}, xlabel='event_time'>"
      ]
     },
     "execution_count": 46,
     "metadata": {},
     "output_type": "execute_result"
    },
    {
     "data": {
      "image/png": "[encoded data removed]",
      "text/plain": [
       "<Figure size 720x360 with 1 Axes>"
      ]
     },
     "metadata": {
      "needs_background": "light"
     },
     "output_type": "display_data"
    }
   ],
   "source": [
    "digging_campaigns('campaign_id_94')"
   ]
  },
  {
   "cell_type": "markdown",
   "id": "fec153ec",
   "metadata": {},
   "source": [
    "Assuming that NAN cost per click for ad_word_costs could be due to no collection of data because costs per click for sessions is also 0 for these campaigns."
   ]
  },
  {
   "cell_type": "code",
   "execution_count": 47,
   "id": "281d2c44",
   "metadata": {},
   "outputs": [
    {
     "data": {
      "text/html": [
       "<div>\n",
       "<style scoped>\n",
       "    .dataframe tbody tr th:only-of-type {\n",
       "        vertical-align: middle;\n",
       "    }\n",
       "\n",
       "    .dataframe tbody tr th {\n",
       "        vertical-align: top;\n",
       "    }\n",
       "\n",
       "    .dataframe thead th {\n",
       "        text-align: right;\n",
       "    }\n",
       "</style>\n",
       "<table border=\"1\" class=\"dataframe\">\n",
       "  <thead>\n",
       "    <tr style=\"text-align: right;\">\n",
       "      <th></th>\n",
       "      <th>campaign_id</th>\n",
       "      <th>cpc_awc</th>\n",
       "      <th>cpc</th>\n",
       "      <th>cost_diff</th>\n",
       "      <th>cost_diff_pct</th>\n",
       "    </tr>\n",
       "  </thead>\n",
       "  <tbody>\n",
       "    <tr>\n",
       "      <th>4</th>\n",
       "      <td>campaign_id_102</td>\n",
       "      <td>NaN</td>\n",
       "      <td>0.0</td>\n",
       "      <td>NaN</td>\n",
       "      <td>NaN</td>\n",
       "    </tr>\n",
       "    <tr>\n",
       "      <th>6</th>\n",
       "      <td>campaign_id_104</td>\n",
       "      <td>NaN</td>\n",
       "      <td>0.0</td>\n",
       "      <td>NaN</td>\n",
       "      <td>NaN</td>\n",
       "    </tr>\n",
       "    <tr>\n",
       "      <th>7</th>\n",
       "      <td>campaign_id_105</td>\n",
       "      <td>NaN</td>\n",
       "      <td>0.0</td>\n",
       "      <td>NaN</td>\n",
       "      <td>NaN</td>\n",
       "    </tr>\n",
       "    <tr>\n",
       "      <th>10</th>\n",
       "      <td>campaign_id_108</td>\n",
       "      <td>NaN</td>\n",
       "      <td>0.0</td>\n",
       "      <td>NaN</td>\n",
       "      <td>NaN</td>\n",
       "    </tr>\n",
       "    <tr>\n",
       "      <th>11</th>\n",
       "      <td>campaign_id_109</td>\n",
       "      <td>NaN</td>\n",
       "      <td>0.0</td>\n",
       "      <td>NaN</td>\n",
       "      <td>NaN</td>\n",
       "    </tr>\n",
       "    <tr>\n",
       "      <th>12</th>\n",
       "      <td>campaign_id_11</td>\n",
       "      <td>NaN</td>\n",
       "      <td>0.0</td>\n",
       "      <td>NaN</td>\n",
       "      <td>NaN</td>\n",
       "    </tr>\n",
       "    <tr>\n",
       "      <th>15</th>\n",
       "      <td>campaign_id_112</td>\n",
       "      <td>NaN</td>\n",
       "      <td>0.0</td>\n",
       "      <td>NaN</td>\n",
       "      <td>NaN</td>\n",
       "    </tr>\n",
       "    <tr>\n",
       "      <th>18</th>\n",
       "      <td>campaign_id_115</td>\n",
       "      <td>NaN</td>\n",
       "      <td>0.0</td>\n",
       "      <td>NaN</td>\n",
       "      <td>NaN</td>\n",
       "    </tr>\n",
       "    <tr>\n",
       "      <th>20</th>\n",
       "      <td>campaign_id_117</td>\n",
       "      <td>NaN</td>\n",
       "      <td>0.0</td>\n",
       "      <td>NaN</td>\n",
       "      <td>NaN</td>\n",
       "    </tr>\n",
       "    <tr>\n",
       "      <th>22</th>\n",
       "      <td>campaign_id_119</td>\n",
       "      <td>NaN</td>\n",
       "      <td>0.0</td>\n",
       "      <td>NaN</td>\n",
       "      <td>NaN</td>\n",
       "    </tr>\n",
       "    <tr>\n",
       "      <th>24</th>\n",
       "      <td>campaign_id_120</td>\n",
       "      <td>NaN</td>\n",
       "      <td>0.0</td>\n",
       "      <td>NaN</td>\n",
       "      <td>NaN</td>\n",
       "    </tr>\n",
       "    <tr>\n",
       "      <th>26</th>\n",
       "      <td>campaign_id_123</td>\n",
       "      <td>NaN</td>\n",
       "      <td>0.0</td>\n",
       "      <td>NaN</td>\n",
       "      <td>NaN</td>\n",
       "    </tr>\n",
       "    <tr>\n",
       "      <th>27</th>\n",
       "      <td>campaign_id_124</td>\n",
       "      <td>NaN</td>\n",
       "      <td>0.0</td>\n",
       "      <td>NaN</td>\n",
       "      <td>NaN</td>\n",
       "    </tr>\n",
       "    <tr>\n",
       "      <th>28</th>\n",
       "      <td>campaign_id_125</td>\n",
       "      <td>NaN</td>\n",
       "      <td>0.0</td>\n",
       "      <td>NaN</td>\n",
       "      <td>NaN</td>\n",
       "    </tr>\n",
       "    <tr>\n",
       "      <th>31</th>\n",
       "      <td>campaign_id_128</td>\n",
       "      <td>NaN</td>\n",
       "      <td>0.0</td>\n",
       "      <td>NaN</td>\n",
       "      <td>NaN</td>\n",
       "    </tr>\n",
       "    <tr>\n",
       "      <th>32</th>\n",
       "      <td>campaign_id_129</td>\n",
       "      <td>NaN</td>\n",
       "      <td>0.0</td>\n",
       "      <td>NaN</td>\n",
       "      <td>NaN</td>\n",
       "    </tr>\n",
       "    <tr>\n",
       "      <th>33</th>\n",
       "      <td>campaign_id_13</td>\n",
       "      <td>NaN</td>\n",
       "      <td>0.0</td>\n",
       "      <td>NaN</td>\n",
       "      <td>NaN</td>\n",
       "    </tr>\n",
       "    <tr>\n",
       "      <th>35</th>\n",
       "      <td>campaign_id_131</td>\n",
       "      <td>NaN</td>\n",
       "      <td>0.0</td>\n",
       "      <td>NaN</td>\n",
       "      <td>NaN</td>\n",
       "    </tr>\n",
       "    <tr>\n",
       "      <th>40</th>\n",
       "      <td>campaign_id_136</td>\n",
       "      <td>NaN</td>\n",
       "      <td>0.0</td>\n",
       "      <td>NaN</td>\n",
       "      <td>NaN</td>\n",
       "    </tr>\n",
       "    <tr>\n",
       "      <th>41</th>\n",
       "      <td>campaign_id_137</td>\n",
       "      <td>NaN</td>\n",
       "      <td>0.0</td>\n",
       "      <td>NaN</td>\n",
       "      <td>NaN</td>\n",
       "    </tr>\n",
       "    <tr>\n",
       "      <th>43</th>\n",
       "      <td>campaign_id_139</td>\n",
       "      <td>NaN</td>\n",
       "      <td>0.0</td>\n",
       "      <td>NaN</td>\n",
       "      <td>NaN</td>\n",
       "    </tr>\n",
       "    <tr>\n",
       "      <th>50</th>\n",
       "      <td>campaign_id_145</td>\n",
       "      <td>NaN</td>\n",
       "      <td>0.0</td>\n",
       "      <td>NaN</td>\n",
       "      <td>NaN</td>\n",
       "    </tr>\n",
       "    <tr>\n",
       "      <th>57</th>\n",
       "      <td>campaign_id_151</td>\n",
       "      <td>NaN</td>\n",
       "      <td>0.0</td>\n",
       "      <td>NaN</td>\n",
       "      <td>NaN</td>\n",
       "    </tr>\n",
       "    <tr>\n",
       "      <th>58</th>\n",
       "      <td>campaign_id_152</td>\n",
       "      <td>NaN</td>\n",
       "      <td>0.0</td>\n",
       "      <td>NaN</td>\n",
       "      <td>NaN</td>\n",
       "    </tr>\n",
       "    <tr>\n",
       "      <th>65</th>\n",
       "      <td>campaign_id_159</td>\n",
       "      <td>NaN</td>\n",
       "      <td>0.0</td>\n",
       "      <td>NaN</td>\n",
       "      <td>NaN</td>\n",
       "    </tr>\n",
       "    <tr>\n",
       "      <th>66</th>\n",
       "      <td>campaign_id_16</td>\n",
       "      <td>NaN</td>\n",
       "      <td>0.0</td>\n",
       "      <td>NaN</td>\n",
       "      <td>NaN</td>\n",
       "    </tr>\n",
       "    <tr>\n",
       "      <th>68</th>\n",
       "      <td>campaign_id_161</td>\n",
       "      <td>NaN</td>\n",
       "      <td>0.0</td>\n",
       "      <td>NaN</td>\n",
       "      <td>NaN</td>\n",
       "    </tr>\n",
       "    <tr>\n",
       "      <th>69</th>\n",
       "      <td>campaign_id_162</td>\n",
       "      <td>NaN</td>\n",
       "      <td>0.0</td>\n",
       "      <td>NaN</td>\n",
       "      <td>NaN</td>\n",
       "    </tr>\n",
       "    <tr>\n",
       "      <th>71</th>\n",
       "      <td>campaign_id_164</td>\n",
       "      <td>NaN</td>\n",
       "      <td>0.0</td>\n",
       "      <td>NaN</td>\n",
       "      <td>NaN</td>\n",
       "    </tr>\n",
       "    <tr>\n",
       "      <th>72</th>\n",
       "      <td>campaign_id_165</td>\n",
       "      <td>NaN</td>\n",
       "      <td>0.0</td>\n",
       "      <td>NaN</td>\n",
       "      <td>NaN</td>\n",
       "    </tr>\n",
       "    <tr>\n",
       "      <th>73</th>\n",
       "      <td>campaign_id_166</td>\n",
       "      <td>NaN</td>\n",
       "      <td>0.0</td>\n",
       "      <td>NaN</td>\n",
       "      <td>NaN</td>\n",
       "    </tr>\n",
       "    <tr>\n",
       "      <th>78</th>\n",
       "      <td>campaign_id_20</td>\n",
       "      <td>NaN</td>\n",
       "      <td>0.0</td>\n",
       "      <td>NaN</td>\n",
       "      <td>NaN</td>\n",
       "    </tr>\n",
       "    <tr>\n",
       "      <th>81</th>\n",
       "      <td>campaign_id_23</td>\n",
       "      <td>NaN</td>\n",
       "      <td>0.0</td>\n",
       "      <td>NaN</td>\n",
       "      <td>NaN</td>\n",
       "    </tr>\n",
       "    <tr>\n",
       "      <th>90</th>\n",
       "      <td>campaign_id_31</td>\n",
       "      <td>NaN</td>\n",
       "      <td>0.0</td>\n",
       "      <td>NaN</td>\n",
       "      <td>NaN</td>\n",
       "    </tr>\n",
       "    <tr>\n",
       "      <th>92</th>\n",
       "      <td>campaign_id_33</td>\n",
       "      <td>NaN</td>\n",
       "      <td>0.0</td>\n",
       "      <td>NaN</td>\n",
       "      <td>NaN</td>\n",
       "    </tr>\n",
       "    <tr>\n",
       "      <th>93</th>\n",
       "      <td>campaign_id_34</td>\n",
       "      <td>NaN</td>\n",
       "      <td>0.0</td>\n",
       "      <td>NaN</td>\n",
       "      <td>NaN</td>\n",
       "    </tr>\n",
       "    <tr>\n",
       "      <th>95</th>\n",
       "      <td>campaign_id_36</td>\n",
       "      <td>NaN</td>\n",
       "      <td>0.0</td>\n",
       "      <td>NaN</td>\n",
       "      <td>NaN</td>\n",
       "    </tr>\n",
       "    <tr>\n",
       "      <th>96</th>\n",
       "      <td>campaign_id_37</td>\n",
       "      <td>NaN</td>\n",
       "      <td>0.0</td>\n",
       "      <td>NaN</td>\n",
       "      <td>NaN</td>\n",
       "    </tr>\n",
       "    <tr>\n",
       "      <th>97</th>\n",
       "      <td>campaign_id_38</td>\n",
       "      <td>NaN</td>\n",
       "      <td>0.0</td>\n",
       "      <td>NaN</td>\n",
       "      <td>NaN</td>\n",
       "    </tr>\n",
       "    <tr>\n",
       "      <th>100</th>\n",
       "      <td>campaign_id_40</td>\n",
       "      <td>NaN</td>\n",
       "      <td>0.0</td>\n",
       "      <td>NaN</td>\n",
       "      <td>NaN</td>\n",
       "    </tr>\n",
       "    <tr>\n",
       "      <th>106</th>\n",
       "      <td>campaign_id_46</td>\n",
       "      <td>NaN</td>\n",
       "      <td>0.0</td>\n",
       "      <td>NaN</td>\n",
       "      <td>NaN</td>\n",
       "    </tr>\n",
       "    <tr>\n",
       "      <th>107</th>\n",
       "      <td>campaign_id_47</td>\n",
       "      <td>NaN</td>\n",
       "      <td>0.0</td>\n",
       "      <td>NaN</td>\n",
       "      <td>NaN</td>\n",
       "    </tr>\n",
       "    <tr>\n",
       "      <th>119</th>\n",
       "      <td>campaign_id_58</td>\n",
       "      <td>NaN</td>\n",
       "      <td>0.0</td>\n",
       "      <td>NaN</td>\n",
       "      <td>NaN</td>\n",
       "    </tr>\n",
       "    <tr>\n",
       "      <th>124</th>\n",
       "      <td>campaign_id_62</td>\n",
       "      <td>NaN</td>\n",
       "      <td>0.0</td>\n",
       "      <td>NaN</td>\n",
       "      <td>NaN</td>\n",
       "    </tr>\n",
       "    <tr>\n",
       "      <th>135</th>\n",
       "      <td>campaign_id_72</td>\n",
       "      <td>NaN</td>\n",
       "      <td>0.0</td>\n",
       "      <td>NaN</td>\n",
       "      <td>NaN</td>\n",
       "    </tr>\n",
       "    <tr>\n",
       "      <th>139</th>\n",
       "      <td>campaign_id_76</td>\n",
       "      <td>NaN</td>\n",
       "      <td>0.0</td>\n",
       "      <td>NaN</td>\n",
       "      <td>NaN</td>\n",
       "    </tr>\n",
       "    <tr>\n",
       "      <th>142</th>\n",
       "      <td>campaign_id_79</td>\n",
       "      <td>15.557979</td>\n",
       "      <td>0.0</td>\n",
       "      <td>-15.557979</td>\n",
       "      <td>-inf</td>\n",
       "    </tr>\n",
       "    <tr>\n",
       "      <th>143</th>\n",
       "      <td>campaign_id_8</td>\n",
       "      <td>NaN</td>\n",
       "      <td>0.0</td>\n",
       "      <td>NaN</td>\n",
       "      <td>NaN</td>\n",
       "    </tr>\n",
       "    <tr>\n",
       "      <th>150</th>\n",
       "      <td>campaign_id_87</td>\n",
       "      <td>NaN</td>\n",
       "      <td>0.0</td>\n",
       "      <td>NaN</td>\n",
       "      <td>NaN</td>\n",
       "    </tr>\n",
       "    <tr>\n",
       "      <th>151</th>\n",
       "      <td>campaign_id_88</td>\n",
       "      <td>NaN</td>\n",
       "      <td>0.0</td>\n",
       "      <td>NaN</td>\n",
       "      <td>NaN</td>\n",
       "    </tr>\n",
       "    <tr>\n",
       "      <th>154</th>\n",
       "      <td>campaign_id_90</td>\n",
       "      <td>NaN</td>\n",
       "      <td>0.0</td>\n",
       "      <td>NaN</td>\n",
       "      <td>NaN</td>\n",
       "    </tr>\n",
       "    <tr>\n",
       "      <th>161</th>\n",
       "      <td>campaign_id_98</td>\n",
       "      <td>NaN</td>\n",
       "      <td>0.0</td>\n",
       "      <td>NaN</td>\n",
       "      <td>NaN</td>\n",
       "    </tr>\n",
       "  </tbody>\n",
       "</table>\n",
       "</div>"
      ],
      "text/plain": [
       "         campaign_id    cpc_awc  cpc  cost_diff  cost_diff_pct\n",
       "4    campaign_id_102        NaN  0.0        NaN            NaN\n",
       "6    campaign_id_104        NaN  0.0        NaN            NaN\n",
       "7    campaign_id_105        NaN  0.0        NaN            NaN\n",
       "10   campaign_id_108        NaN  0.0        NaN            NaN\n",
       "11   campaign_id_109        NaN  0.0        NaN            NaN\n",
       "12    campaign_id_11        NaN  0.0        NaN            NaN\n",
       "15   campaign_id_112        NaN  0.0        NaN            NaN\n",
       "18   campaign_id_115        NaN  0.0        NaN            NaN\n",
       "20   campaign_id_117        NaN  0.0        NaN            NaN\n",
       "22   campaign_id_119        NaN  0.0        NaN            NaN\n",
       "24   campaign_id_120        NaN  0.0        NaN            NaN\n",
       "26   campaign_id_123        NaN  0.0        NaN            NaN\n",
       "27   campaign_id_124        NaN  0.0        NaN            NaN\n",
       "28   campaign_id_125        NaN  0.0        NaN            NaN\n",
       "31   campaign_id_128        NaN  0.0        NaN            NaN\n",
       "32   campaign_id_129        NaN  0.0        NaN            NaN\n",
       "33    campaign_id_13        NaN  0.0        NaN            NaN\n",
       "35   campaign_id_131        NaN  0.0        NaN            NaN\n",
       "40   campaign_id_136        NaN  0.0        NaN            NaN\n",
       "41   campaign_id_137        NaN  0.0        NaN            NaN\n",
       "43   campaign_id_139        NaN  0.0        NaN            NaN\n",
       "50   campaign_id_145        NaN  0.0        NaN            NaN\n",
       "57   campaign_id_151        NaN  0.0        NaN            NaN\n",
       "58   campaign_id_152        NaN  0.0        NaN            NaN\n",
       "65   campaign_id_159        NaN  0.0        NaN            NaN\n",
       "66    campaign_id_16        NaN  0.0        NaN            NaN\n",
       "68   campaign_id_161        NaN  0.0        NaN            NaN\n",
       "69   campaign_id_162        NaN  0.0        NaN            NaN\n",
       "71   campaign_id_164        NaN  0.0        NaN            NaN\n",
       "72   campaign_id_165        NaN  0.0        NaN            NaN\n",
       "73   campaign_id_166        NaN  0.0        NaN            NaN\n",
       "78    campaign_id_20        NaN  0.0        NaN            NaN\n",
       "81    campaign_id_23        NaN  0.0        NaN            NaN\n",
       "90    campaign_id_31        NaN  0.0        NaN            NaN\n",
       "92    campaign_id_33        NaN  0.0        NaN            NaN\n",
       "93    campaign_id_34        NaN  0.0        NaN            NaN\n",
       "95    campaign_id_36        NaN  0.0        NaN            NaN\n",
       "96    campaign_id_37        NaN  0.0        NaN            NaN\n",
       "97    campaign_id_38        NaN  0.0        NaN            NaN\n",
       "100   campaign_id_40        NaN  0.0        NaN            NaN\n",
       "106   campaign_id_46        NaN  0.0        NaN            NaN\n",
       "107   campaign_id_47        NaN  0.0        NaN            NaN\n",
       "119   campaign_id_58        NaN  0.0        NaN            NaN\n",
       "124   campaign_id_62        NaN  0.0        NaN            NaN\n",
       "135   campaign_id_72        NaN  0.0        NaN            NaN\n",
       "139   campaign_id_76        NaN  0.0        NaN            NaN\n",
       "142   campaign_id_79  15.557979  0.0 -15.557979           -inf\n",
       "143    campaign_id_8        NaN  0.0        NaN            NaN\n",
       "150   campaign_id_87        NaN  0.0        NaN            NaN\n",
       "151   campaign_id_88        NaN  0.0        NaN            NaN\n",
       "154   campaign_id_90        NaN  0.0        NaN            NaN\n",
       "161   campaign_id_98        NaN  0.0        NaN            NaN"
      ]
     },
     "execution_count": 47,
     "metadata": {},
     "output_type": "execute_result"
    }
   ],
   "source": [
    "cpc_no_profit = costs_tab.loc[(costs_tab['cpc'])<=0]\n",
    "cpc_no_profit"
   ]
  },
  {
   "cell_type": "code",
   "execution_count": 48,
   "id": "93c854ee",
   "metadata": {},
   "outputs": [
    {
     "data": {
      "text/plain": [
       "(52, 5)"
      ]
     },
     "execution_count": 48,
     "metadata": {},
     "output_type": "execute_result"
    }
   ],
   "source": [
    "cpc_no_profit.shape"
   ]
  },
  {
   "cell_type": "code",
   "execution_count": 49,
   "id": "5bee102b",
   "metadata": {},
   "outputs": [
    {
     "data": {
      "text/plain": [
       "31.70731707317073"
      ]
     },
     "execution_count": 49,
     "metadata": {},
     "output_type": "execute_result"
    }
   ],
   "source": [
    "(len(cpc_no_profit)/len(costs_tab))*100"
   ]
  },
  {
   "cell_type": "markdown",
   "id": "5ec7e18a",
   "metadata": {},
   "source": [
    "removing the campaigns with 0 costs per clicks that is 31% of data"
   ]
  },
  {
   "cell_type": "code",
   "execution_count": 50,
   "id": "bc23ebc9",
   "metadata": {},
   "outputs": [],
   "source": [
    "new_costs = costs_tab.loc[(costs_tab['cpc'])>0]"
   ]
  },
  {
   "cell_type": "code",
   "execution_count": 51,
   "id": "21c79bd0",
   "metadata": {},
   "outputs": [],
   "source": [
    "# filling missing values in cost difference  with cpc because this is the costs we got after the clickhappened on site\n",
    "new_costs['cost_diff'] = new_costs.apply(lambda row: row['cpc'] if np.isnan(row['cost_diff']) else row['cost_diff'],axis=1)"
   ]
  },
  {
   "cell_type": "code",
   "execution_count": 52,
   "id": "f14abbf2",
   "metadata": {},
   "outputs": [],
   "source": [
    "new_costs['cost_diff_pct']=(new_costs['cost_diff']/new_costs['cpc'])*100"
   ]
  },
  {
   "cell_type": "code",
   "execution_count": 53,
   "id": "b3515e90",
   "metadata": {},
   "outputs": [],
   "source": [
    "new_costs['cost_diff_pct']=(new_costs['cost_diff']/new_costs['cpc'])*100"
   ]
  },
  {
   "cell_type": "code",
   "execution_count": 54,
   "id": "7dab4ba1",
   "metadata": {},
   "outputs": [],
   "source": [
    "new_costs = new_costs.sort_values('cost_diff_pct', ascending = False)"
   ]
  },
  {
   "cell_type": "markdown",
   "id": "454af8e9",
   "metadata": {},
   "source": [
    "querying the campaigns which recovered 99% and above costs"
   ]
  },
  {
   "cell_type": "code",
   "execution_count": 55,
   "id": "a2dd8900",
   "metadata": {},
   "outputs": [
    {
     "data": {
      "text/html": [
       "<div>\n",
       "<style scoped>\n",
       "    .dataframe tbody tr th:only-of-type {\n",
       "        vertical-align: middle;\n",
       "    }\n",
       "\n",
       "    .dataframe tbody tr th {\n",
       "        vertical-align: top;\n",
       "    }\n",
       "\n",
       "    .dataframe thead th {\n",
       "        text-align: right;\n",
       "    }\n",
       "</style>\n",
       "<table border=\"1\" class=\"dataframe\">\n",
       "  <thead>\n",
       "    <tr style=\"text-align: right;\">\n",
       "      <th></th>\n",
       "      <th>campaign_id</th>\n",
       "      <th>cpc_awc</th>\n",
       "      <th>cpc</th>\n",
       "      <th>cost_diff</th>\n",
       "      <th>cost_diff_pct</th>\n",
       "    </tr>\n",
       "  </thead>\n",
       "  <tbody>\n",
       "    <tr>\n",
       "      <th>0</th>\n",
       "      <td>campaign_id_1</td>\n",
       "      <td>NaN</td>\n",
       "      <td>1.144</td>\n",
       "      <td>1.144000</td>\n",
       "      <td>100.000000</td>\n",
       "    </tr>\n",
       "    <tr>\n",
       "      <th>59</th>\n",
       "      <td>campaign_id_153</td>\n",
       "      <td>NaN</td>\n",
       "      <td>0.843</td>\n",
       "      <td>0.843000</td>\n",
       "      <td>100.000000</td>\n",
       "    </tr>\n",
       "    <tr>\n",
       "      <th>149</th>\n",
       "      <td>campaign_id_85</td>\n",
       "      <td>NaN</td>\n",
       "      <td>0.172</td>\n",
       "      <td>0.172000</td>\n",
       "      <td>100.000000</td>\n",
       "    </tr>\n",
       "    <tr>\n",
       "      <th>145</th>\n",
       "      <td>campaign_id_81</td>\n",
       "      <td>NaN</td>\n",
       "      <td>2.336</td>\n",
       "      <td>2.336000</td>\n",
       "      <td>100.000000</td>\n",
       "    </tr>\n",
       "    <tr>\n",
       "      <th>98</th>\n",
       "      <td>campaign_id_39</td>\n",
       "      <td>NaN</td>\n",
       "      <td>1.721</td>\n",
       "      <td>1.721000</td>\n",
       "      <td>100.000000</td>\n",
       "    </tr>\n",
       "    <tr>\n",
       "      <th>163</th>\n",
       "      <td>notset</td>\n",
       "      <td>NaN</td>\n",
       "      <td>237814.424</td>\n",
       "      <td>237814.424000</td>\n",
       "      <td>100.000000</td>\n",
       "    </tr>\n",
       "    <tr>\n",
       "      <th>54</th>\n",
       "      <td>campaign_id_149</td>\n",
       "      <td>21.263380</td>\n",
       "      <td>62138.274</td>\n",
       "      <td>62117.010620</td>\n",
       "      <td>99.965781</td>\n",
       "    </tr>\n",
       "    <tr>\n",
       "      <th>29</th>\n",
       "      <td>campaign_id_126</td>\n",
       "      <td>22.556390</td>\n",
       "      <td>30876.030</td>\n",
       "      <td>30853.473610</td>\n",
       "      <td>99.926945</td>\n",
       "    </tr>\n",
       "    <tr>\n",
       "      <th>117</th>\n",
       "      <td>campaign_id_56</td>\n",
       "      <td>12.567506</td>\n",
       "      <td>17167.419</td>\n",
       "      <td>17154.851494</td>\n",
       "      <td>99.926794</td>\n",
       "    </tr>\n",
       "    <tr>\n",
       "      <th>112</th>\n",
       "      <td>campaign_id_51</td>\n",
       "      <td>9.455993</td>\n",
       "      <td>10320.445</td>\n",
       "      <td>10310.989007</td>\n",
       "      <td>99.908376</td>\n",
       "    </tr>\n",
       "  </tbody>\n",
       "</table>\n",
       "</div>"
      ],
      "text/plain": [
       "         campaign_id    cpc_awc         cpc      cost_diff  cost_diff_pct\n",
       "0      campaign_id_1        NaN       1.144       1.144000     100.000000\n",
       "59   campaign_id_153        NaN       0.843       0.843000     100.000000\n",
       "149   campaign_id_85        NaN       0.172       0.172000     100.000000\n",
       "145   campaign_id_81        NaN       2.336       2.336000     100.000000\n",
       "98    campaign_id_39        NaN       1.721       1.721000     100.000000\n",
       "163           notset        NaN  237814.424  237814.424000     100.000000\n",
       "54   campaign_id_149  21.263380   62138.274   62117.010620      99.965781\n",
       "29   campaign_id_126  22.556390   30876.030   30853.473610      99.926945\n",
       "117   campaign_id_56  12.567506   17167.419   17154.851494      99.926794\n",
       "112   campaign_id_51   9.455993   10320.445   10310.989007      99.908376"
      ]
     },
     "execution_count": 55,
     "metadata": {},
     "output_type": "execute_result"
    }
   ],
   "source": [
    "new_costs.query('cost_diff_pct >= 99').head(10)"
   ]
  },
  {
   "cell_type": "markdown",
   "id": "8685e86f",
   "metadata": {},
   "source": [
    "So, from the above analysis we can see that 41 campaigns of the total 164 campaigns have covered the costs 99% and above. There are 52 campaigns that is 31% of all the campaigns which either have no information or there is no costs have been collected. campaign_id_79 and 94 are underperforming campaigns,therefore, something should be changed in them.\n"
   ]
  },
  {
   "cell_type": "markdown",
   "id": "b9f6475a",
   "metadata": {},
   "source": [
    "# 2.  Are the conversions in the 'conversions' table stable over time? Any pattern?"
   ]
  },
  {
   "cell_type": "code",
   "execution_count": 56,
   "id": "ac307d9a",
   "metadata": {
    "scrolled": true
   },
   "outputs": [
    {
     "data": {
      "text/plain": [
       "Text(0, 0.5, 'conversion count')"
      ]
     },
     "execution_count": 56,
     "metadata": {},
     "output_type": "execute_result"
    },
    {
     "data": {
      "image/png": "[encoded data removed]",
      "text/plain": [
       "<Figure size 432x288 with 1 Axes>"
      ]
     },
     "metadata": {
      "needs_background": "light"
     },
     "output_type": "display_data"
    }
   ],
   "source": [
    "# counting the conversions on respective dates\n",
    "conv = conversions.groupby('conv_date').agg({'conv_id':'count'})\n",
    "conv['conv_id'].plot()\n",
    "plt.title(\"Conversions Over time\")\n",
    "plt.ylabel('conversion count')"
   ]
  },
  {
   "cell_type": "code",
   "execution_count": 57,
   "id": "e840de75",
   "metadata": {},
   "outputs": [
    {
     "data": {
      "text/plain": [
       "<AxesSubplot:>"
      ]
     },
     "execution_count": 57,
     "metadata": {},
     "output_type": "execute_result"
    },
    {
     "data": {
      "image/png": "[encoded data removed]",
      "text/plain": [
       "<Figure size 432x288 with 1 Axes>"
      ]
     },
     "metadata": {
      "needs_background": "light"
     },
     "output_type": "display_data"
    }
   ],
   "source": [
    "#Let's look at the outliers\n",
    "conv.plot.box()"
   ]
  },
  {
   "cell_type": "code",
   "execution_count": 58,
   "id": "d5dae607",
   "metadata": {},
   "outputs": [],
   "source": [
    "#create a function to find outliers using IQR\n",
    "def find_outliers_IQR(df):\n",
    "    q1=df.quantile(0.25)\n",
    "    q3=df.quantile(0.75)\n",
    "    IQR=q3-q1\n",
    "    outliers = df[((df<(q1-1.5*IQR)) | (df>(q3+1.5*IQR)))]\n",
    "    return outliers"
   ]
  },
  {
   "cell_type": "code",
   "execution_count": 59,
   "id": "47918a1b",
   "metadata": {},
   "outputs": [
    {
     "data": {
      "text/html": [
       "<div>\n",
       "<style scoped>\n",
       "    .dataframe tbody tr th:only-of-type {\n",
       "        vertical-align: middle;\n",
       "    }\n",
       "\n",
       "    .dataframe tbody tr th {\n",
       "        vertical-align: top;\n",
       "    }\n",
       "\n",
       "    .dataframe thead th {\n",
       "        text-align: right;\n",
       "    }\n",
       "</style>\n",
       "<table border=\"1\" class=\"dataframe\">\n",
       "  <thead>\n",
       "    <tr style=\"text-align: right;\">\n",
       "      <th></th>\n",
       "      <th>conv_id</th>\n",
       "    </tr>\n",
       "    <tr>\n",
       "      <th>conv_date</th>\n",
       "      <th></th>\n",
       "    </tr>\n",
       "  </thead>\n",
       "  <tbody>\n",
       "    <tr>\n",
       "      <th>2021-07-15</th>\n",
       "      <td>NaN</td>\n",
       "    </tr>\n",
       "    <tr>\n",
       "      <th>2021-07-16</th>\n",
       "      <td>NaN</td>\n",
       "    </tr>\n",
       "    <tr>\n",
       "      <th>2021-07-17</th>\n",
       "      <td>NaN</td>\n",
       "    </tr>\n",
       "    <tr>\n",
       "      <th>2021-07-18</th>\n",
       "      <td>1370.0</td>\n",
       "    </tr>\n",
       "    <tr>\n",
       "      <th>2021-07-19</th>\n",
       "      <td>NaN</td>\n",
       "    </tr>\n",
       "    <tr>\n",
       "      <th>2021-07-20</th>\n",
       "      <td>NaN</td>\n",
       "    </tr>\n",
       "    <tr>\n",
       "      <th>2021-07-21</th>\n",
       "      <td>NaN</td>\n",
       "    </tr>\n",
       "    <tr>\n",
       "      <th>2021-07-22</th>\n",
       "      <td>NaN</td>\n",
       "    </tr>\n",
       "    <tr>\n",
       "      <th>2021-07-23</th>\n",
       "      <td>NaN</td>\n",
       "    </tr>\n",
       "    <tr>\n",
       "      <th>2021-07-24</th>\n",
       "      <td>NaN</td>\n",
       "    </tr>\n",
       "    <tr>\n",
       "      <th>2021-07-25</th>\n",
       "      <td>NaN</td>\n",
       "    </tr>\n",
       "    <tr>\n",
       "      <th>2021-07-26</th>\n",
       "      <td>NaN</td>\n",
       "    </tr>\n",
       "    <tr>\n",
       "      <th>2021-07-27</th>\n",
       "      <td>NaN</td>\n",
       "    </tr>\n",
       "    <tr>\n",
       "      <th>2021-07-28</th>\n",
       "      <td>NaN</td>\n",
       "    </tr>\n",
       "    <tr>\n",
       "      <th>2021-07-29</th>\n",
       "      <td>NaN</td>\n",
       "    </tr>\n",
       "    <tr>\n",
       "      <th>2021-07-30</th>\n",
       "      <td>2294.0</td>\n",
       "    </tr>\n",
       "    <tr>\n",
       "      <th>2021-07-31</th>\n",
       "      <td>NaN</td>\n",
       "    </tr>\n",
       "  </tbody>\n",
       "</table>\n",
       "</div>"
      ],
      "text/plain": [
       "            conv_id\n",
       "conv_date          \n",
       "2021-07-15      NaN\n",
       "2021-07-16      NaN\n",
       "2021-07-17      NaN\n",
       "2021-07-18   1370.0\n",
       "2021-07-19      NaN\n",
       "2021-07-20      NaN\n",
       "2021-07-21      NaN\n",
       "2021-07-22      NaN\n",
       "2021-07-23      NaN\n",
       "2021-07-24      NaN\n",
       "2021-07-25      NaN\n",
       "2021-07-26      NaN\n",
       "2021-07-27      NaN\n",
       "2021-07-28      NaN\n",
       "2021-07-29      NaN\n",
       "2021-07-30   2294.0\n",
       "2021-07-31      NaN"
      ]
     },
     "execution_count": 59,
     "metadata": {},
     "output_type": "execute_result"
    }
   ],
   "source": [
    "find_outliers_IQR(conv)"
   ]
  },
  {
   "cell_type": "code",
   "execution_count": 60,
   "id": "09c5ce3e",
   "metadata": {},
   "outputs": [
    {
     "data": {
      "text/plain": [
       "0        False\n",
       "1        False\n",
       "2        False\n",
       "3        False\n",
       "4        False\n",
       "         ...  \n",
       "16949    False\n",
       "16950    False\n",
       "16951    False\n",
       "16952    False\n",
       "16953    False\n",
       "Length: 16954, dtype: bool"
      ]
     },
     "execution_count": 60,
     "metadata": {},
     "output_type": "execute_result"
    }
   ],
   "source": [
    "conversions.duplicated()"
   ]
  },
  {
   "cell_type": "markdown",
   "id": "9eb4c359",
   "metadata": {},
   "source": [
    "So there seem to be outliers value on 18th and 30th July. We will see if the conversion_id is getting repeated in our table."
   ]
  },
  {
   "cell_type": "code",
   "execution_count": 61,
   "id": "ddad5bba",
   "metadata": {},
   "outputs": [
    {
     "data": {
      "text/plain": [
       "conv_id_291      2\n",
       "conv_id_11991    2\n",
       "conv_id_159      2\n",
       "conv_id_6545     2\n",
       "conv_id_843      2\n",
       "                ..\n",
       "conv_id_12911    1\n",
       "conv_id_8619     1\n",
       "conv_id_160      1\n",
       "conv_id_12312    1\n",
       "conv_id_4646     1\n",
       "Name: conv_id, Length: 16938, dtype: int64"
      ]
     },
     "execution_count": 61,
     "metadata": {},
     "output_type": "execute_result"
    }
   ],
   "source": [
    "conversions.conv_id.value_counts()"
   ]
  },
  {
   "cell_type": "markdown",
   "id": "a3c40591",
   "metadata": {},
   "source": [
    "Given that the conversion_ids for each purchase should be unique.We can check if the data is same in the repeating conv_id"
   ]
  },
  {
   "cell_type": "code",
   "execution_count": 62,
   "id": "f0b859bb",
   "metadata": {},
   "outputs": [],
   "source": [
    "conversions_ = conversions.copy()"
   ]
  },
  {
   "cell_type": "code",
   "execution_count": 63,
   "id": "51ba0f4c",
   "metadata": {},
   "outputs": [],
   "source": [
    "#conversions_"
   ]
  },
  {
   "cell_type": "code",
   "execution_count": 64,
   "id": "7914d2b6",
   "metadata": {},
   "outputs": [
    {
     "data": {
      "text/plain": [
       "21      conv_id_16249\n",
       "173     conv_id_16016\n",
       "1219      conv_id_159\n",
       "2533    conv_id_15447\n",
       "3782    conv_id_16550\n",
       "Name: conv_id, dtype: object"
      ]
     },
     "execution_count": 64,
     "metadata": {},
     "output_type": "execute_result"
    }
   ],
   "source": [
    "# conversion_ids which are repeated in the table\n",
    "conversions_[conversions_['conv_id'].isin(conversions_['conv_id'].value_counts()[conversions_['conv_id'].value_counts()>1].index)].conv_id.head()\n"
   ]
  },
  {
   "cell_type": "code",
   "execution_count": 65,
   "id": "8ae8f852",
   "metadata": {},
   "outputs": [
    {
     "data": {
      "text/html": [
       "<div>\n",
       "<style scoped>\n",
       "    .dataframe tbody tr th:only-of-type {\n",
       "        vertical-align: middle;\n",
       "    }\n",
       "\n",
       "    .dataframe tbody tr th {\n",
       "        vertical-align: top;\n",
       "    }\n",
       "\n",
       "    .dataframe thead th {\n",
       "        text-align: right;\n",
       "    }\n",
       "</style>\n",
       "<table border=\"1\" class=\"dataframe\">\n",
       "  <thead>\n",
       "    <tr style=\"text-align: right;\">\n",
       "      <th></th>\n",
       "      <th>conv_id</th>\n",
       "      <th>user_id</th>\n",
       "      <th>conv_date</th>\n",
       "      <th>market</th>\n",
       "      <th>revenue</th>\n",
       "    </tr>\n",
       "  </thead>\n",
       "  <tbody>\n",
       "    <tr>\n",
       "      <th>21</th>\n",
       "      <td>conv_id_16249</td>\n",
       "      <td>user_id_411752</td>\n",
       "      <td>2021-07-15</td>\n",
       "      <td>AT</td>\n",
       "      <td>161.35</td>\n",
       "    </tr>\n",
       "    <tr>\n",
       "      <th>16938</th>\n",
       "      <td>conv_id_16249</td>\n",
       "      <td>user_id_182167</td>\n",
       "      <td>2021-07-15</td>\n",
       "      <td>AT</td>\n",
       "      <td>161.35</td>\n",
       "    </tr>\n",
       "  </tbody>\n",
       "</table>\n",
       "</div>"
      ],
      "text/plain": [
       "             conv_id         user_id  conv_date market  revenue\n",
       "21     conv_id_16249  user_id_411752 2021-07-15     AT   161.35\n",
       "16938  conv_id_16249  user_id_182167 2021-07-15     AT   161.35"
      ]
     },
     "execution_count": 65,
     "metadata": {},
     "output_type": "execute_result"
    }
   ],
   "source": [
    "conversions.query(\"conv_id=='conv_id_16249'\")"
   ]
  },
  {
   "cell_type": "code",
   "execution_count": 66,
   "id": "b00632a4",
   "metadata": {},
   "outputs": [
    {
     "data": {
      "text/html": [
       "<div>\n",
       "<style scoped>\n",
       "    .dataframe tbody tr th:only-of-type {\n",
       "        vertical-align: middle;\n",
       "    }\n",
       "\n",
       "    .dataframe tbody tr th {\n",
       "        vertical-align: top;\n",
       "    }\n",
       "\n",
       "    .dataframe thead th {\n",
       "        text-align: right;\n",
       "    }\n",
       "</style>\n",
       "<table border=\"1\" class=\"dataframe\">\n",
       "  <thead>\n",
       "    <tr style=\"text-align: right;\">\n",
       "      <th></th>\n",
       "      <th>conv_id</th>\n",
       "      <th>user_id</th>\n",
       "      <th>conv_date</th>\n",
       "      <th>market</th>\n",
       "      <th>revenue</th>\n",
       "    </tr>\n",
       "  </thead>\n",
       "  <tbody>\n",
       "    <tr>\n",
       "      <th>1219</th>\n",
       "      <td>conv_id_159</td>\n",
       "      <td>user_id_95063</td>\n",
       "      <td>2021-07-16</td>\n",
       "      <td>DE</td>\n",
       "      <td>100.83</td>\n",
       "    </tr>\n",
       "    <tr>\n",
       "      <th>16940</th>\n",
       "      <td>conv_id_159</td>\n",
       "      <td>user_id_26171</td>\n",
       "      <td>2021-07-16</td>\n",
       "      <td>DE</td>\n",
       "      <td>100.83</td>\n",
       "    </tr>\n",
       "  </tbody>\n",
       "</table>\n",
       "</div>"
      ],
      "text/plain": [
       "           conv_id        user_id  conv_date market  revenue\n",
       "1219   conv_id_159  user_id_95063 2021-07-16     DE   100.83\n",
       "16940  conv_id_159  user_id_26171 2021-07-16     DE   100.83"
      ]
     },
     "execution_count": 66,
     "metadata": {},
     "output_type": "execute_result"
    }
   ],
   "source": [
    "conversions.query(\"conv_id=='conv_id_159'\")"
   ]
  },
  {
   "cell_type": "code",
   "execution_count": 67,
   "id": "e864a873",
   "metadata": {},
   "outputs": [
    {
     "data": {
      "text/html": [
       "<div>\n",
       "<style scoped>\n",
       "    .dataframe tbody tr th:only-of-type {\n",
       "        vertical-align: middle;\n",
       "    }\n",
       "\n",
       "    .dataframe tbody tr th {\n",
       "        vertical-align: top;\n",
       "    }\n",
       "\n",
       "    .dataframe thead th {\n",
       "        text-align: right;\n",
       "    }\n",
       "</style>\n",
       "<table border=\"1\" class=\"dataframe\">\n",
       "  <thead>\n",
       "    <tr style=\"text-align: right;\">\n",
       "      <th></th>\n",
       "      <th>conv_id</th>\n",
       "      <th>user_id</th>\n",
       "      <th>conv_date</th>\n",
       "      <th>market</th>\n",
       "      <th>revenue</th>\n",
       "    </tr>\n",
       "  </thead>\n",
       "  <tbody>\n",
       "    <tr>\n",
       "      <th>12343</th>\n",
       "      <td>conv_id_11991</td>\n",
       "      <td>user_id_8521</td>\n",
       "      <td>2021-07-28</td>\n",
       "      <td>GB</td>\n",
       "      <td>70.72</td>\n",
       "    </tr>\n",
       "    <tr>\n",
       "      <th>16948</th>\n",
       "      <td>conv_id_11991</td>\n",
       "      <td>user_id_1111998</td>\n",
       "      <td>2021-07-28</td>\n",
       "      <td>GB</td>\n",
       "      <td>70.72</td>\n",
       "    </tr>\n",
       "  </tbody>\n",
       "</table>\n",
       "</div>"
      ],
      "text/plain": [
       "             conv_id          user_id  conv_date market  revenue\n",
       "12343  conv_id_11991     user_id_8521 2021-07-28     GB    70.72\n",
       "16948  conv_id_11991  user_id_1111998 2021-07-28     GB    70.72"
      ]
     },
     "execution_count": 67,
     "metadata": {},
     "output_type": "execute_result"
    }
   ],
   "source": [
    "conversions.query(\"conv_id=='conv_id_11991'\")"
   ]
  },
  {
   "cell_type": "markdown",
   "id": "2a59fe09",
   "metadata": {},
   "source": [
    "Though there is unique conversion_id but we have different users on same conversion id with same data, it might be because same conversions have been tracked differently. We can also compare it with conversions at backend and see that the same conversion id is tracked for different users."
   ]
  },
  {
   "cell_type": "code",
   "execution_count": 68,
   "id": "c44d5878",
   "metadata": {},
   "outputs": [
    {
     "data": {
      "text/html": [
       "<div>\n",
       "<style scoped>\n",
       "    .dataframe tbody tr th:only-of-type {\n",
       "        vertical-align: middle;\n",
       "    }\n",
       "\n",
       "    .dataframe tbody tr th {\n",
       "        vertical-align: top;\n",
       "    }\n",
       "\n",
       "    .dataframe thead th {\n",
       "        text-align: right;\n",
       "    }\n",
       "</style>\n",
       "<table border=\"1\" class=\"dataframe\">\n",
       "  <thead>\n",
       "    <tr style=\"text-align: right;\">\n",
       "      <th></th>\n",
       "      <th>conv_id</th>\n",
       "      <th>user_id</th>\n",
       "      <th>conv_date</th>\n",
       "      <th>market</th>\n",
       "      <th>revenue</th>\n",
       "    </tr>\n",
       "  </thead>\n",
       "  <tbody>\n",
       "    <tr>\n",
       "      <th>12596</th>\n",
       "      <td>conv_id_11991</td>\n",
       "      <td>user_id_8521</td>\n",
       "      <td>2021-07-28</td>\n",
       "      <td>GB</td>\n",
       "      <td>70.72</td>\n",
       "    </tr>\n",
       "  </tbody>\n",
       "</table>\n",
       "</div>"
      ],
      "text/plain": [
       "             conv_id       user_id  conv_date market  revenue\n",
       "12596  conv_id_11991  user_id_8521 2021-07-28     GB    70.72"
      ]
     },
     "execution_count": 68,
     "metadata": {},
     "output_type": "execute_result"
    }
   ],
   "source": [
    "# we can also compare it with conversions at backend and see that the same conversion id is tracked for different users.\n",
    "conv_back.query(\"conv_id=='conv_id_11991'\")"
   ]
  },
  {
   "cell_type": "code",
   "execution_count": 69,
   "id": "1fa639a9",
   "metadata": {},
   "outputs": [],
   "source": [
    "#let's fix the data discrepency and only select the first transanction\n",
    "conversions_new =  conversions.drop_duplicates(subset='conv_id', keep=\"first\",inplace=False)"
   ]
  },
  {
   "cell_type": "code",
   "execution_count": 70,
   "id": "8304469f",
   "metadata": {},
   "outputs": [
    {
     "data": {
      "text/plain": [
       "(16938, 5)"
      ]
     },
     "execution_count": 70,
     "metadata": {},
     "output_type": "execute_result"
    }
   ],
   "source": [
    "conversions_new.shape"
   ]
  },
  {
   "cell_type": "code",
   "execution_count": 71,
   "id": "383c161b",
   "metadata": {},
   "outputs": [
    {
     "data": {
      "text/plain": [
       "(16954, 5)"
      ]
     },
     "execution_count": 71,
     "metadata": {},
     "output_type": "execute_result"
    }
   ],
   "source": [
    "conversions_.shape"
   ]
  },
  {
   "cell_type": "code",
   "execution_count": 72,
   "id": "1dad903c",
   "metadata": {},
   "outputs": [
    {
     "data": {
      "text/plain": [
       "Text(0, 0.5, 'conversion count')"
      ]
     },
     "execution_count": 72,
     "metadata": {},
     "output_type": "execute_result"
    },
    {
     "data": {
      "image/png": "[encoded data removed]",
      "text/plain": [
       "<Figure size 432x288 with 1 Axes>"
      ]
     },
     "metadata": {
      "needs_background": "light"
     },
     "output_type": "display_data"
    }
   ],
   "source": [
    "#let's plot again \n",
    "conv_new = conversions_new.groupby('conv_date').agg({'conv_id':'count'})\n",
    "conv_new['conv_id'].plot()\n",
    "plt.title(\"Conversions Over time\")\n",
    "plt.ylabel('conversion count')"
   ]
  },
  {
   "cell_type": "markdown",
   "id": "2e0fe6ff",
   "metadata": {},
   "source": [
    "From the above 2 graphs, it is evident that the conversion and the conversion change was **high at the end of the month and on 18th of July**. It can also be worth noting that although the conversions on 24th of July was decreased but the percent change of the conversion as compared to previous days was not so down."
   ]
  },
  {
   "cell_type": "code",
   "execution_count": 73,
   "id": "32339a84",
   "metadata": {},
   "outputs": [],
   "source": [
    "#conv_days.loc[conv_days['conv_date'] == '2021-07-31']"
   ]
  },
  {
   "cell_type": "markdown",
   "id": "3695370c",
   "metadata": {},
   "source": [
    "To see the trend more closely, we will check the trend on weekdays."
   ]
  },
  {
   "cell_type": "markdown",
   "id": "8264a577",
   "metadata": {},
   "source": [
    "# Based on weekdays\n"
   ]
  },
  {
   "cell_type": "code",
   "execution_count": 74,
   "id": "f3b49286",
   "metadata": {},
   "outputs": [],
   "source": [
    "# preperation of dataframe to extract weekdays\n",
    "weekdays = [\"Monday\", \"Tuesday\", \"Wednesday\", \"Thursday\", \"Friday\", \"Saturday\", \"Sunday\"]\n",
    "conversions_new['weekdays']=conversions_new['conv_date'].dt.strftime('%A')\n",
    "#\n",
    "conv_days = conversions_new.groupby(['conv_date','weekdays']).agg({'conv_id':'count'}).reset_index()"
   ]
  },
  {
   "cell_type": "code",
   "execution_count": 75,
   "id": "e40712c7",
   "metadata": {},
   "outputs": [
    {
     "data": {
      "text/plain": [
       "(array([ 0,  1,  2,  3,  4,  5,  6,  7,  8,  9, 10, 11, 12, 13, 14, 15, 16]),\n",
       " [Text(0, 0, 'Thursday'),\n",
       "  Text(1, 0, 'Friday'),\n",
       "  Text(2, 0, 'Saturday'),\n",
       "  Text(3, 0, 'Sunday'),\n",
       "  Text(4, 0, 'Monday'),\n",
       "  Text(5, 0, 'Tuesday'),\n",
       "  Text(6, 0, 'Wednesday'),\n",
       "  Text(7, 0, 'Thursday'),\n",
       "  Text(8, 0, 'Friday'),\n",
       "  Text(9, 0, 'Saturday'),\n",
       "  Text(10, 0, 'Sunday'),\n",
       "  Text(11, 0, 'Monday'),\n",
       "  Text(12, 0, 'Tuesday'),\n",
       "  Text(13, 0, 'Wednesday'),\n",
       "  Text(14, 0, 'Thursday'),\n",
       "  Text(15, 0, 'Friday'),\n",
       "  Text(16, 0, 'Saturday')])"
      ]
     },
     "execution_count": 75,
     "metadata": {},
     "output_type": "execute_result"
    },
    {
     "data": {
      "image/png": "[encoded data removed]",
      "text/plain": [
       "<Figure size 864x432 with 1 Axes>"
      ]
     },
     "metadata": {
      "needs_background": "light"
     },
     "output_type": "display_data"
    }
   ],
   "source": [
    "conv1 = conv_days.set_index('weekdays')\n",
    "conv1['conv_id'].plot(kind = 'bar', figsize=(12,6))\n",
    "plt.title(\"Conversions Over time-days\")\n",
    "plt.ylabel('conversion count')\n",
    "plt.xticks(rotation = 30)"
   ]
  },
  {
   "cell_type": "markdown",
   "id": "6150844c",
   "metadata": {},
   "source": [
    "The above graph shows the trend that on **Saturdays the converion is lower** from Friday and Sunday. Moreover, the conversion on **Sunday is higher than on Friday**. On Tuesday and Wednesday conversion is almost similar."
   ]
  },
  {
   "cell_type": "code",
   "execution_count": 76,
   "id": "35317f25",
   "metadata": {},
   "outputs": [
    {
     "data": {
      "text/plain": [
       "Text(0, 0.5, 'conversion count')"
      ]
     },
     "execution_count": 76,
     "metadata": {},
     "output_type": "execute_result"
    },
    {
     "data": {
      "image/png": "[encoded data removed]",
      "text/plain": [
       "<Figure size 432x288 with 1 Axes>"
      ]
     },
     "metadata": {
      "needs_background": "light"
     },
     "output_type": "display_data"
    }
   ],
   "source": [
    "conv_week = conversions_new.groupby('weekdays').agg({'conv_id':'count'}).reindex(labels=weekdays)\n",
    "conv_week['conv_id'].plot(kind = 'bar')\n",
    "plt.title(\"Conversions Over time -Weekdays\")\n",
    "plt.ylabel('conversion count')"
   ]
  },
  {
   "cell_type": "code",
   "execution_count": 77,
   "id": "336f3223",
   "metadata": {},
   "outputs": [
    {
     "data": {
      "text/plain": [
       "(array([0, 1, 2, 3, 4, 5, 6]),\n",
       " [Text(0, 0, 'Monday'),\n",
       "  Text(1, 0, 'Tuesday'),\n",
       "  Text(2, 0, 'Wednesday'),\n",
       "  Text(3, 0, 'Thursday'),\n",
       "  Text(4, 0, 'Friday'),\n",
       "  Text(5, 0, 'Saturday'),\n",
       "  Text(6, 0, 'Sunday')])"
      ]
     },
     "execution_count": 77,
     "metadata": {},
     "output_type": "execute_result"
    },
    {
     "data": {
      "image/png": "[encoded data removed]",
      "text/plain": [
       "<Figure size 432x288 with 1 Axes>"
      ]
     },
     "metadata": {
      "needs_background": "light"
     },
     "output_type": "display_data"
    }
   ],
   "source": [
    "conv_week['conv_id_pct_change'] = conv_week['conv_id'].pct_change()\n",
    "conv_week['conv_id_pct_change'].plot(kind = 'bar')\n",
    "plt.title('Conversion Percent Change Over Time-Weekdays')\n",
    "plt.ylabel(\"percent change\")\n",
    "plt.xticks(rotation = 90)"
   ]
  },
  {
   "cell_type": "markdown",
   "id": "1e4841a0",
   "metadata": {},
   "source": [
    "From the above analysis we can conclude that the conversion changes overtime and is not stable. It can be depicted the on  Friday conversion is high as compared to other weekdays. **With more information and data we can know how is the trend changes on Sunday, may be the conversions on sundays are more than Friday.**"
   ]
  },
  {
   "cell_type": "markdown",
   "id": "12ce9017",
   "metadata": {},
   "source": [
    "# Double check conversions ('conversions' table) with backend ('conversions_backend' table), any issues?"
   ]
  },
  {
   "cell_type": "code",
   "execution_count": 78,
   "id": "0c9240b7",
   "metadata": {
    "scrolled": true
   },
   "outputs": [
    {
     "name": "stdout",
     "output_type": "stream",
     "text": [
      "<class 'pandas.core.frame.DataFrame'>\n",
      "RangeIndex: 17283 entries, 0 to 17282\n",
      "Data columns (total 5 columns):\n",
      " #   Column     Non-Null Count  Dtype         \n",
      "---  ------     --------------  -----         \n",
      " 0   conv_id    17283 non-null  object        \n",
      " 1   user_id    17283 non-null  object        \n",
      " 2   conv_date  17283 non-null  datetime64[ns]\n",
      " 3   market     17283 non-null  object        \n",
      " 4   revenue    17283 non-null  float64       \n",
      "dtypes: datetime64[ns](1), float64(1), object(3)\n",
      "memory usage: 675.2+ KB\n"
     ]
    }
   ],
   "source": [
    "conv_back.info()"
   ]
  },
  {
   "cell_type": "code",
   "execution_count": 79,
   "id": "4a3ca0e6",
   "metadata": {},
   "outputs": [
    {
     "name": "stdout",
     "output_type": "stream",
     "text": [
      "<class 'pandas.core.frame.DataFrame'>\n",
      "Int64Index: 16938 entries, 0 to 16937\n",
      "Data columns (total 6 columns):\n",
      " #   Column     Non-Null Count  Dtype         \n",
      "---  ------     --------------  -----         \n",
      " 0   conv_id    16938 non-null  object        \n",
      " 1   user_id    16938 non-null  object        \n",
      " 2   conv_date  16938 non-null  datetime64[ns]\n",
      " 3   market     16938 non-null  object        \n",
      " 4   revenue    16938 non-null  float64       \n",
      " 5   weekdays   16938 non-null  object        \n",
      "dtypes: datetime64[ns](1), float64(1), object(4)\n",
      "memory usage: 926.3+ KB\n"
     ]
    }
   ],
   "source": [
    "conversions_new.info()"
   ]
  },
  {
   "cell_type": "code",
   "execution_count": 80,
   "id": "43b891e0",
   "metadata": {},
   "outputs": [
    {
     "name": "stdout",
     "output_type": "stream",
     "text": [
      "<class 'pandas.core.frame.DataFrame'>\n",
      "RangeIndex: 16954 entries, 0 to 16953\n",
      "Data columns (total 5 columns):\n",
      " #   Column     Non-Null Count  Dtype         \n",
      "---  ------     --------------  -----         \n",
      " 0   conv_id    16954 non-null  object        \n",
      " 1   user_id    16954 non-null  object        \n",
      " 2   conv_date  16954 non-null  datetime64[ns]\n",
      " 3   market     16954 non-null  object        \n",
      " 4   revenue    16954 non-null  float64       \n",
      "dtypes: datetime64[ns](1), float64(1), object(3)\n",
      "memory usage: 662.4+ KB\n"
     ]
    }
   ],
   "source": [
    "conversions.info()"
   ]
  },
  {
   "cell_type": "markdown",
   "id": "12fb3dfc",
   "metadata": {},
   "source": [
    "Some values are not recorded in conversions table as in conversions_backend table. Also, from the above analysis, it is seen that the same data in conversion table might got repeated as for 2 different users."
   ]
  },
  {
   "cell_type": "code",
   "execution_count": 81,
   "id": "9f336c62",
   "metadata": {},
   "outputs": [
    {
     "name": "stdout",
     "output_type": "stream",
     "text": [
      "847927.35\n",
      "877250.86\n"
     ]
    }
   ],
   "source": [
    "print(conversions_new['revenue'].sum())\n",
    "print(conv_back['revenue'].sum())"
   ]
  },
  {
   "cell_type": "markdown",
   "id": "298b88bc",
   "metadata": {},
   "source": [
    "From, the above exploration of data it can be clearly seen that there are missing values in the conversions tables as compared to conversions_backend table(which is considered true). This is also showing the difference between the revenue generated."
   ]
  },
  {
   "cell_type": "code",
   "execution_count": 82,
   "id": "2f52ebd8",
   "metadata": {},
   "outputs": [
    {
     "data": {
      "text/html": [
       "<div>\n",
       "<style scoped>\n",
       "    .dataframe tbody tr th:only-of-type {\n",
       "        vertical-align: middle;\n",
       "    }\n",
       "\n",
       "    .dataframe tbody tr th {\n",
       "        vertical-align: top;\n",
       "    }\n",
       "\n",
       "    .dataframe thead th {\n",
       "        text-align: right;\n",
       "    }\n",
       "</style>\n",
       "<table border=\"1\" class=\"dataframe\">\n",
       "  <thead>\n",
       "    <tr style=\"text-align: right;\">\n",
       "      <th></th>\n",
       "      <th>conv_id</th>\n",
       "      <th>user_id</th>\n",
       "      <th>conv_date</th>\n",
       "      <th>market</th>\n",
       "      <th>revenue</th>\n",
       "      <th>check_conv_id</th>\n",
       "    </tr>\n",
       "  </thead>\n",
       "  <tbody>\n",
       "  </tbody>\n",
       "</table>\n",
       "</div>"
      ],
      "text/plain": [
       "Empty DataFrame\n",
       "Columns: [conv_id, user_id, conv_date, market, revenue, check_conv_id]\n",
       "Index: []"
      ]
     },
     "execution_count": 82,
     "metadata": {},
     "output_type": "execute_result"
    }
   ],
   "source": [
    "# matching conv_id from both tables\n",
    "(conversions\n",
    "    .assign(check_conv_id = conversions['conv_id'].isin(conv_back['conv_id']))\n",
    "    .query(\"check_conv_id==False\"))"
   ]
  },
  {
   "cell_type": "code",
   "execution_count": 83,
   "id": "399ef4b5",
   "metadata": {},
   "outputs": [],
   "source": [
    "# now let's check for the other table\n",
    "missed_conversions = (conv_back\n",
    "    .assign(check_conv_id = conv_back['conv_id'].isin(conversions_new['conv_id']))\n",
    "    .query(\"check_conv_id==False\"))"
   ]
  },
  {
   "cell_type": "markdown",
   "id": "30c4f834",
   "metadata": {},
   "source": [
    "We have found 345 conv_id missing from conversions table."
   ]
  },
  {
   "cell_type": "code",
   "execution_count": 84,
   "id": "84711517",
   "metadata": {},
   "outputs": [
    {
     "data": {
      "text/plain": [
       "Timestamp('2021-07-15 00:00:00')"
      ]
     },
     "execution_count": 84,
     "metadata": {},
     "output_type": "execute_result"
    }
   ],
   "source": [
    "conv_back['conv_date'].min()"
   ]
  },
  {
   "cell_type": "code",
   "execution_count": 85,
   "id": "72531011",
   "metadata": {},
   "outputs": [
    {
     "data": {
      "text/plain": [
       "Timestamp('2021-07-15 00:00:00')"
      ]
     },
     "execution_count": 85,
     "metadata": {},
     "output_type": "execute_result"
    }
   ],
   "source": [
    "conversions['conv_date'].min()"
   ]
  },
  {
   "cell_type": "code",
   "execution_count": 86,
   "id": "f2c0ecad",
   "metadata": {},
   "outputs": [
    {
     "data": {
      "text/plain": [
       "user_id_547739    2\n",
       "user_id_854426    2\n",
       "user_id_761755    1\n",
       "user_id_699146    1\n",
       "user_id_519790    1\n",
       "                 ..\n",
       "user_id_330296    1\n",
       "user_id_607544    1\n",
       "user_id_528202    1\n",
       "user_id_333379    1\n",
       "user_id_594900    1\n",
       "Name: user_id, Length: 343, dtype: int64"
      ]
     },
     "execution_count": 86,
     "metadata": {},
     "output_type": "execute_result"
    }
   ],
   "source": [
    "# how many a times user was not detected\n",
    "missed_conversions.user_id.value_counts()"
   ]
  },
  {
   "cell_type": "code",
   "execution_count": 87,
   "id": "d494ca68",
   "metadata": {},
   "outputs": [
    {
     "data": {
      "text/plain": [
       "GB    124\n",
       "NL    103\n",
       "DE     74\n",
       "FR     16\n",
       "BE      8\n",
       "AT      7\n",
       "DK      4\n",
       "SE      3\n",
       "IE      2\n",
       "ES      1\n",
       "LT      1\n",
       "IT      1\n",
       "SK      1\n",
       "Name: market, dtype: int64"
      ]
     },
     "execution_count": 87,
     "metadata": {},
     "output_type": "execute_result"
    }
   ],
   "source": [
    "#market\n",
    "missed_conversions.market.value_counts()"
   ]
  },
  {
   "cell_type": "code",
   "execution_count": 88,
   "id": "7297e3fb",
   "metadata": {},
   "outputs": [
    {
     "data": {
      "text/plain": [
       "Text(0.5, 1.0, 'Missed Conversions by Date')"
      ]
     },
     "execution_count": 88,
     "metadata": {},
     "output_type": "execute_result"
    },
    {
     "data": {
      "image/png": "[encoded data removed]",
      "text/plain": [
       "<Figure size 720x432 with 1 Axes>"
      ]
     },
     "metadata": {
      "needs_background": "light"
     },
     "output_type": "display_data"
    }
   ],
   "source": [
    "missed_conversions.conv_date.value_counts().plot(figsize=(10,6))\n",
    "plt.xlabel('conversion_date')\n",
    "plt.ylabel('missed_conversions')\n",
    "plt.title('Missed Conversions by Date')"
   ]
  },
  {
   "cell_type": "markdown",
   "id": "25c5b042",
   "metadata": {},
   "source": [
    "Let's compare the user_id's from both conversion table, so we can see that is the missing values is from particular user or not."
   ]
  },
  {
   "cell_type": "code",
   "execution_count": 89,
   "id": "15822712",
   "metadata": {},
   "outputs": [],
   "source": [
    "missing_users = (missed_conversions\n",
    "    .assign(check_user_id = missed_conversions['user_id'].isin(conversions['user_id']))\n",
    "    .query(\"check_user_id==False\"))"
   ]
  },
  {
   "cell_type": "code",
   "execution_count": 90,
   "id": "ad2557d6",
   "metadata": {},
   "outputs": [
    {
     "data": {
      "text/plain": [
       "(array([ 0,  1,  2,  3,  4,  5,  6,  7,  8,  9, 10, 11, 12]),\n",
       " [Text(0, 0, 'GB'),\n",
       "  Text(1, 0, 'NL'),\n",
       "  Text(2, 0, 'DE'),\n",
       "  Text(3, 0, 'FR'),\n",
       "  Text(4, 0, 'BE'),\n",
       "  Text(5, 0, 'AT'),\n",
       "  Text(6, 0, 'DK'),\n",
       "  Text(7, 0, 'SE'),\n",
       "  Text(8, 0, 'IE'),\n",
       "  Text(9, 0, 'ES'),\n",
       "  Text(10, 0, 'LT'),\n",
       "  Text(11, 0, 'IT'),\n",
       "  Text(12, 0, 'SK')])"
      ]
     },
     "execution_count": 90,
     "metadata": {},
     "output_type": "execute_result"
    },
    {
     "data": {
      "image/png": "[encoded data removed]",
      "text/plain": [
       "<Figure size 432x288 with 1 Axes>"
      ]
     },
     "metadata": {
      "needs_background": "light"
     },
     "output_type": "display_data"
    }
   ],
   "source": [
    "missing_users.market.value_counts().plot(kind='bar')\n",
    "plt.title('Missing Users in conversions by Country')\n",
    "plt.xlabel('Countries')\n",
    "plt.ylabel('Number of missing users')\n",
    "plt.xticks(rotation = 360)\n"
   ]
  },
  {
   "cell_type": "markdown",
   "id": "4027e2d9",
   "metadata": {},
   "source": [
    "# Are attribution results consistent? Do you find any conversions where the 'ihc' values don't make sense?\n",
    "\n",
    "First lets find out the ihc value by taking the sum of sessions for each conversion id."
   ]
  },
  {
   "cell_type": "code",
   "execution_count": 91,
   "id": "55eb805c",
   "metadata": {},
   "outputs": [
    {
     "data": {
      "text/html": [
       "<div>\n",
       "<style scoped>\n",
       "    .dataframe tbody tr th:only-of-type {\n",
       "        vertical-align: middle;\n",
       "    }\n",
       "\n",
       "    .dataframe tbody tr th {\n",
       "        vertical-align: top;\n",
       "    }\n",
       "\n",
       "    .dataframe thead th {\n",
       "        text-align: right;\n",
       "    }\n",
       "</style>\n",
       "<table border=\"1\" class=\"dataframe\">\n",
       "  <thead>\n",
       "    <tr style=\"text-align: right;\">\n",
       "      <th></th>\n",
       "      <th>conv_id</th>\n",
       "      <th>session_id</th>\n",
       "      <th>ihc</th>\n",
       "    </tr>\n",
       "  </thead>\n",
       "  <tbody>\n",
       "    <tr>\n",
       "      <th>0</th>\n",
       "      <td>conv_id_12119</td>\n",
       "      <td>session_id_180406</td>\n",
       "      <td>0.0</td>\n",
       "    </tr>\n",
       "  </tbody>\n",
       "</table>\n",
       "</div>"
      ],
      "text/plain": [
       "         conv_id         session_id  ihc\n",
       "0  conv_id_12119  session_id_180406  0.0"
      ]
     },
     "execution_count": 91,
     "metadata": {},
     "output_type": "execute_result"
    }
   ],
   "source": [
    "attri_jour.head(1)"
   ]
  },
  {
   "cell_type": "code",
   "execution_count": 92,
   "id": "328c7925",
   "metadata": {},
   "outputs": [
    {
     "data": {
      "text/plain": [
       "(22499, 3)"
      ]
     },
     "execution_count": 92,
     "metadata": {},
     "output_type": "execute_result"
    }
   ],
   "source": [
    "attri_jour.shape"
   ]
  },
  {
   "cell_type": "code",
   "execution_count": 93,
   "id": "a999e5a9",
   "metadata": {},
   "outputs": [],
   "source": [
    "ihc_values = attri_jour.groupby([\"conv_id\",\"session_id\"]).agg({'ihc':'sum'}).sort_values('ihc', ascending = False)"
   ]
  },
  {
   "cell_type": "code",
   "execution_count": 94,
   "id": "d288f4ed",
   "metadata": {},
   "outputs": [],
   "source": [
    "#attri_jour.conv_id.value_counts()"
   ]
  },
  {
   "cell_type": "code",
   "execution_count": 95,
   "id": "5e8210c1",
   "metadata": {},
   "outputs": [
    {
     "data": {
      "text/html": [
       "<div>\n",
       "<style scoped>\n",
       "    .dataframe tbody tr th:only-of-type {\n",
       "        vertical-align: middle;\n",
       "    }\n",
       "\n",
       "    .dataframe tbody tr th {\n",
       "        vertical-align: top;\n",
       "    }\n",
       "\n",
       "    .dataframe thead th {\n",
       "        text-align: right;\n",
       "    }\n",
       "</style>\n",
       "<table border=\"1\" class=\"dataframe\">\n",
       "  <thead>\n",
       "    <tr style=\"text-align: right;\">\n",
       "      <th></th>\n",
       "      <th>ihc</th>\n",
       "    </tr>\n",
       "  </thead>\n",
       "  <tbody>\n",
       "    <tr>\n",
       "      <th>count</th>\n",
       "      <td>22499.000000</td>\n",
       "    </tr>\n",
       "    <tr>\n",
       "      <th>mean</th>\n",
       "      <td>0.309004</td>\n",
       "    </tr>\n",
       "    <tr>\n",
       "      <th>std</th>\n",
       "      <td>0.329172</td>\n",
       "    </tr>\n",
       "    <tr>\n",
       "      <th>min</th>\n",
       "      <td>0.000000</td>\n",
       "    </tr>\n",
       "    <tr>\n",
       "      <th>25%</th>\n",
       "      <td>0.024287</td>\n",
       "    </tr>\n",
       "    <tr>\n",
       "      <th>50%</th>\n",
       "      <td>0.194419</td>\n",
       "    </tr>\n",
       "    <tr>\n",
       "      <th>75%</th>\n",
       "      <td>0.499821</td>\n",
       "    </tr>\n",
       "    <tr>\n",
       "      <th>max</th>\n",
       "      <td>1.000000</td>\n",
       "    </tr>\n",
       "  </tbody>\n",
       "</table>\n",
       "</div>"
      ],
      "text/plain": [
       "                ihc\n",
       "count  22499.000000\n",
       "mean       0.309004\n",
       "std        0.329172\n",
       "min        0.000000\n",
       "25%        0.024287\n",
       "50%        0.194419\n",
       "75%        0.499821\n",
       "max        1.000000"
      ]
     },
     "execution_count": 95,
     "metadata": {},
     "output_type": "execute_result"
    }
   ],
   "source": [
    "ihc_values.describe()"
   ]
  },
  {
   "cell_type": "markdown",
   "id": "8a45d77b",
   "metadata": {},
   "source": [
    "Here, we see there are some ihc values which doesnot make any sense because  ihc value should be  1, but from above table we see some values are more or less than 1 for each session."
   ]
  },
  {
   "cell_type": "code",
   "execution_count": 96,
   "id": "c6a69ccc",
   "metadata": {},
   "outputs": [
    {
     "data": {
      "text/html": [
       "<div>\n",
       "<style scoped>\n",
       "    .dataframe tbody tr th:only-of-type {\n",
       "        vertical-align: middle;\n",
       "    }\n",
       "\n",
       "    .dataframe tbody tr th {\n",
       "        vertical-align: top;\n",
       "    }\n",
       "\n",
       "    .dataframe thead th {\n",
       "        text-align: right;\n",
       "    }\n",
       "</style>\n",
       "<table border=\"1\" class=\"dataframe\">\n",
       "  <thead>\n",
       "    <tr style=\"text-align: right;\">\n",
       "      <th></th>\n",
       "      <th></th>\n",
       "      <th>ihc</th>\n",
       "    </tr>\n",
       "    <tr>\n",
       "      <th>conv_id</th>\n",
       "      <th>session_id</th>\n",
       "      <th></th>\n",
       "    </tr>\n",
       "  </thead>\n",
       "  <tbody>\n",
       "    <tr>\n",
       "      <th>conv_id_3576</th>\n",
       "      <th>session_id_600494</th>\n",
       "      <td>0.83</td>\n",
       "    </tr>\n",
       "    <tr>\n",
       "      <th>conv_id_10756</th>\n",
       "      <th>session_id_63634</th>\n",
       "      <td>0.83</td>\n",
       "    </tr>\n",
       "    <tr>\n",
       "      <th>conv_id_15138</th>\n",
       "      <th>session_id_1271698</th>\n",
       "      <td>0.83</td>\n",
       "    </tr>\n",
       "    <tr>\n",
       "      <th>conv_id_14006</th>\n",
       "      <th>session_id_532527</th>\n",
       "      <td>0.83</td>\n",
       "    </tr>\n",
       "    <tr>\n",
       "      <th>conv_id_7211</th>\n",
       "      <th>session_id_529990</th>\n",
       "      <td>0.83</td>\n",
       "    </tr>\n",
       "    <tr>\n",
       "      <th>...</th>\n",
       "      <th>...</th>\n",
       "      <td>...</td>\n",
       "    </tr>\n",
       "    <tr>\n",
       "      <th rowspan=\"2\" valign=\"top\">conv_id_7156</th>\n",
       "      <th>session_id_741151</th>\n",
       "      <td>0.00</td>\n",
       "    </tr>\n",
       "    <tr>\n",
       "      <th>session_id_627655</th>\n",
       "      <td>0.00</td>\n",
       "    </tr>\n",
       "    <tr>\n",
       "      <th rowspan=\"2\" valign=\"top\">conv_id_3028</th>\n",
       "      <th>session_id_653693</th>\n",
       "      <td>0.00</td>\n",
       "    </tr>\n",
       "    <tr>\n",
       "      <th>session_id_67301</th>\n",
       "      <td>0.00</td>\n",
       "    </tr>\n",
       "    <tr>\n",
       "      <th>conv_id_7676</th>\n",
       "      <th>session_id_459220</th>\n",
       "      <td>0.00</td>\n",
       "    </tr>\n",
       "  </tbody>\n",
       "</table>\n",
       "<p>19434 rows × 1 columns</p>\n",
       "</div>"
      ],
      "text/plain": [
       "                                   ihc\n",
       "conv_id       session_id              \n",
       "conv_id_3576  session_id_600494   0.83\n",
       "conv_id_10756 session_id_63634    0.83\n",
       "conv_id_15138 session_id_1271698  0.83\n",
       "conv_id_14006 session_id_532527   0.83\n",
       "conv_id_7211  session_id_529990   0.83\n",
       "...                                ...\n",
       "conv_id_7156  session_id_741151   0.00\n",
       "              session_id_627655   0.00\n",
       "conv_id_3028  session_id_653693   0.00\n",
       "              session_id_67301    0.00\n",
       "conv_id_7676  session_id_459220   0.00\n",
       "\n",
       "[19434 rows x 1 columns]"
      ]
     },
     "execution_count": 96,
     "metadata": {},
     "output_type": "execute_result"
    }
   ],
   "source": [
    "ihc_values['ihc'] = ihc_values.ihc.round(2)\n",
    "ihc_values.loc[(ihc_values['ihc'] !=1)]\n"
   ]
  },
  {
   "cell_type": "code",
   "execution_count": 97,
   "id": "b0228ed5",
   "metadata": {},
   "outputs": [
    {
     "data": {
      "text/plain": [
       "0.00    4969\n",
       "1.00    3065\n",
       "0.33    1866\n",
       "0.50    1610\n",
       "0.17     955\n",
       "        ... \n",
       "0.82       3\n",
       "0.69       2\n",
       "0.81       1\n",
       "0.73       1\n",
       "0.75       1\n",
       "Name: ihc, Length: 79, dtype: int64"
      ]
     },
     "execution_count": 97,
     "metadata": {},
     "output_type": "execute_result"
    }
   ],
   "source": [
    "ihc_values['ihc'].value_counts()"
   ]
  },
  {
   "cell_type": "markdown",
   "id": "1fc4bade",
   "metadata": {},
   "source": [
    "\n",
    "# (Bonus) Do we have an issue with channeling? Are the number of sessions per channel stable over time?"
   ]
  },
  {
   "cell_type": "code",
   "execution_count": 98,
   "id": "1b0754a7",
   "metadata": {},
   "outputs": [
    {
     "data": {
      "text/plain": [
       "array(['Affiliate', 'Affiliates', 'Content Marketing', 'Direct',\n",
       "       'Direct Traffic', 'Display', 'Display Remarketing', 'Email',\n",
       "       'Google Remarketing', 'Influencers', 'Referral',\n",
       "       'SEA (no tagging)', 'SEA - Brand', 'SEA - Branded',\n",
       "       'SEA - Non-Brand', 'SEA - Non-branded', 'SEO', 'Shopping - Brand',\n",
       "       'Shopping - Branded', 'Shopping - Non Brand',\n",
       "       'Shopping - Non-branded', 'Social - Organic', 'Social - Paid',\n",
       "       'Social Organic', 'Social Paid', 'Social Remarketing',\n",
       "       'Video Marketing', 'YouTube Video Ads'], dtype=object)"
      ]
     },
     "execution_count": 98,
     "metadata": {},
     "output_type": "execute_result"
    }
   ],
   "source": [
    "# let's look at the number of channels we have\n",
    "session_sources.channel_name.unique()"
   ]
  },
  {
   "cell_type": "code",
   "execution_count": 99,
   "id": "0f967fed",
   "metadata": {},
   "outputs": [
    {
     "data": {
      "text/plain": [
       "28"
      ]
     },
     "execution_count": 99,
     "metadata": {},
     "output_type": "execute_result"
    }
   ],
   "source": [
    "session_sources.channel_name.unique().size"
   ]
  },
  {
   "cell_type": "markdown",
   "id": "d873ebfd",
   "metadata": {},
   "source": [
    "We have 28 different channels for our marketing."
   ]
  },
  {
   "cell_type": "markdown",
   "id": "2d51d656",
   "metadata": {},
   "source": [
    "Seems like there are lot of channels that are with different names such as Affiliate and Affiliates, Direct and Direct Traffic etc. Therefore we can tweak the names of channels."
   ]
  },
  {
   "cell_type": "code",
   "execution_count": 100,
   "id": "86f8e783",
   "metadata": {},
   "outputs": [],
   "source": [
    "session_channels = session_sources.copy()"
   ]
  },
  {
   "cell_type": "code",
   "execution_count": 101,
   "id": "1a0dd26b",
   "metadata": {},
   "outputs": [],
   "source": [
    "# replacing the channel names\n",
    "session_channels['channel_name']=session_channels['channel_name'].str.replace('Affiliate', 'Affiliates')\n",
    "session_channels['channel_name']=session_channels['channel_name'].str.replace('Affiliatess', 'Affiliates')\n",
    "session_channels['channel_name']=session_channels['channel_name'].str.replace('Direct Traffic', 'Direct')\n",
    "session_channels['channel_name']=session_channels['channel_name'].str.replace('Display Remarketing', 'Display')\n",
    "session_channels['channel_name']=session_channels['channel_name'].str.replace('SEA - Branded', 'SEA - Brand')\n",
    "session_channels['channel_name']=session_channels['channel_name'].str.replace('SEA - Non-branded', 'SEA - Non-Brand')\n",
    "session_channels['channel_name']=session_channels['channel_name'].str.replace('Shopping - Branded', 'Shopping - Brand')\n",
    "session_channels['channel_name']=session_channels['channel_name'].str.replace('Shopping - Non-branded', 'Shopping - Non Brand')\n",
    "session_channels['channel_name']=session_channels['channel_name'].str.replace('Social - Organic', 'Social Organic')\n",
    "session_channels['channel_name']=session_channels['channel_name'].str.replace('Social - Paid', 'Social Paid')"
   ]
  },
  {
   "cell_type": "code",
   "execution_count": 102,
   "id": "592c3778",
   "metadata": {},
   "outputs": [],
   "source": [
    "session_channel = session_channels.groupby(['event_date', 'channel_name']).agg({'session_id':'count'}).sort_values(['event_date','session_id'], ascending = True).reset_index()"
   ]
  },
  {
   "cell_type": "code",
   "execution_count": 103,
   "id": "aab1e961",
   "metadata": {},
   "outputs": [
    {
     "data": {
      "image/png": "[encoded data removed]",
      "text/plain": [
       "<Figure size 1296x1512 with 19 Axes>"
      ]
     },
     "metadata": {
      "needs_background": "light"
     },
     "output_type": "display_data"
    }
   ],
   "source": [
    "g = sns.FacetGrid(session_channel, col='channel_name', sharex=False, sharey=False, col_wrap=3, height=3, aspect=2)\n",
    "g.map_dataframe(sns.lineplot, x='event_date', y='session_id')\n",
    "g.set_xticklabels(rotation = 25)\n",
    "g.fig.tight_layout()\n"
   ]
  },
  {
   "cell_type": "markdown",
   "id": "10a3a477",
   "metadata": {},
   "source": [
    "From the above plots we can detect that from several channels such as **Video marketing, Google remarketing, YouTube Ads, Shopping Brand, Influencers, Referal, Social organic, Affiliates, Social Remarketing, SEA and Direct** was increased between 9th July and 13 July. In addition, the trend is somehow decreasing in these channels (except Direct and SEA-Brand) at the end of the month while the trend is increasing from **E-mail and SEO** at the end of the month. Overall, we can not say that the number of sessions from the chanels was stable over the time."
   ]
  },
  {
   "cell_type": "code",
   "execution_count": 104,
   "id": "a82af870",
   "metadata": {},
   "outputs": [
    {
     "data": {
      "text/html": [
       "<div>\n",
       "<style scoped>\n",
       "    .dataframe tbody tr th:only-of-type {\n",
       "        vertical-align: middle;\n",
       "    }\n",
       "\n",
       "    .dataframe tbody tr th {\n",
       "        vertical-align: top;\n",
       "    }\n",
       "\n",
       "    .dataframe thead th {\n",
       "        text-align: right;\n",
       "    }\n",
       "</style>\n",
       "<table border=\"1\" class=\"dataframe\">\n",
       "  <thead>\n",
       "    <tr style=\"text-align: right;\">\n",
       "      <th></th>\n",
       "      <th>session_id</th>\n",
       "    </tr>\n",
       "    <tr>\n",
       "      <th>channel_name</th>\n",
       "      <th></th>\n",
       "    </tr>\n",
       "  </thead>\n",
       "  <tbody>\n",
       "    <tr>\n",
       "      <th>Content Marketing</th>\n",
       "      <td>1</td>\n",
       "    </tr>\n",
       "    <tr>\n",
       "      <th>Display Remarketing</th>\n",
       "      <td>2</td>\n",
       "    </tr>\n",
       "    <tr>\n",
       "      <th>Video Marketing</th>\n",
       "      <td>2738</td>\n",
       "    </tr>\n",
       "    <tr>\n",
       "      <th>Google Remarketing</th>\n",
       "      <td>3407</td>\n",
       "    </tr>\n",
       "    <tr>\n",
       "      <th>YouTube Video Ads</th>\n",
       "      <td>5028</td>\n",
       "    </tr>\n",
       "  </tbody>\n",
       "</table>\n",
       "</div>"
      ],
      "text/plain": [
       "                     session_id\n",
       "channel_name                   \n",
       "Content Marketing             1\n",
       "Display Remarketing           2\n",
       "Video Marketing            2738\n",
       "Google Remarketing         3407\n",
       "YouTube Video Ads          5028"
      ]
     },
     "execution_count": 104,
     "metadata": {},
     "output_type": "execute_result"
    }
   ],
   "source": [
    "# worse channels for marketing\n",
    "session_sources.groupby(['channel_name']).agg({'session_id':'count'}).sort_values('session_id', ascending = True).head(5)"
   ]
  },
  {
   "cell_type": "code",
   "execution_count": 105,
   "id": "9cc343ae",
   "metadata": {},
   "outputs": [
    {
     "data": {
      "text/html": [
       "<div>\n",
       "<style scoped>\n",
       "    .dataframe tbody tr th:only-of-type {\n",
       "        vertical-align: middle;\n",
       "    }\n",
       "\n",
       "    .dataframe tbody tr th {\n",
       "        vertical-align: top;\n",
       "    }\n",
       "\n",
       "    .dataframe thead th {\n",
       "        text-align: right;\n",
       "    }\n",
       "</style>\n",
       "<table border=\"1\" class=\"dataframe\">\n",
       "  <thead>\n",
       "    <tr style=\"text-align: right;\">\n",
       "      <th></th>\n",
       "      <th>session_id</th>\n",
       "    </tr>\n",
       "    <tr>\n",
       "      <th>channel_name</th>\n",
       "      <th></th>\n",
       "    </tr>\n",
       "  </thead>\n",
       "  <tbody>\n",
       "    <tr>\n",
       "      <th>SEO</th>\n",
       "      <td>310277</td>\n",
       "    </tr>\n",
       "    <tr>\n",
       "      <th>Direct</th>\n",
       "      <td>211362</td>\n",
       "    </tr>\n",
       "    <tr>\n",
       "      <th>Shopping - Non-branded</th>\n",
       "      <td>205366</td>\n",
       "    </tr>\n",
       "    <tr>\n",
       "      <th>Social - Paid</th>\n",
       "      <td>177264</td>\n",
       "    </tr>\n",
       "    <tr>\n",
       "      <th>Email</th>\n",
       "      <td>110181</td>\n",
       "    </tr>\n",
       "  </tbody>\n",
       "</table>\n",
       "</div>"
      ],
      "text/plain": [
       "                        session_id\n",
       "channel_name                      \n",
       "SEO                         310277\n",
       "Direct                      211362\n",
       "Shopping - Non-branded      205366\n",
       "Social - Paid               177264\n",
       "Email                       110181"
      ]
     },
     "execution_count": 105,
     "metadata": {},
     "output_type": "execute_result"
    }
   ],
   "source": [
    "# best marketing channels\n",
    "session_sources.groupby(['channel_name']).agg({'session_id':'count'}).sort_values('session_id', ascending = False).head(5)"
   ]
  },
  {
   "cell_type": "code",
   "execution_count": 106,
   "id": "13f9aff7",
   "metadata": {},
   "outputs": [],
   "source": [
    "# best marketing channels\n",
    "chanels_s = session_sources.groupby(['channel_name']).agg({'session_id':'count'}).sort_values('session_id', ascending = False)"
   ]
  },
  {
   "cell_type": "code",
   "execution_count": 107,
   "id": "27ba1c1c",
   "metadata": {},
   "outputs": [
    {
     "data": {
      "text/plain": [
       "Text(0.5, 1.0, 'Session counts on all channel')"
      ]
     },
     "execution_count": 107,
     "metadata": {},
     "output_type": "execute_result"
    },
    {
     "data": {
      "image/png": "[encoded data removed]",
      "text/plain": [
       "<Figure size 864x432 with 1 Axes>"
      ]
     },
     "metadata": {
      "needs_background": "light"
     },
     "output_type": "display_data"
    }
   ],
   "source": [
    "chanels_s.plot(kind = 'bar',figsize=(12,6) )\n",
    "plt.ylabel('no. of sessions')\n",
    "\n",
    "plt.title('Session counts on all channel')"
   ]
  },
  {
   "cell_type": "code",
   "execution_count": 108,
   "id": "1715487d",
   "metadata": {},
   "outputs": [
    {
     "data": {
      "text/plain": [
       "Text(0.5, 1.0, 'Session counts on channel -(after data cleaning)')"
      ]
     },
     "execution_count": 108,
     "metadata": {},
     "output_type": "execute_result"
    },
    {
     "data": {
      "image/png": "[encoded data removed]",
      "text/plain": [
       "<Figure size 720x432 with 1 Axes>"
      ]
     },
     "metadata": {
      "needs_background": "light"
     },
     "output_type": "display_data"
    }
   ],
   "source": [
    "# best marketing channels (with changed_names)\n",
    "sc = session_channels.groupby(['channel_name']).agg({'session_id':'count'}).sort_values('session_id', ascending = False)\n",
    "sc.plot(kind = 'bar',figsize=(10,6))\n",
    "plt.ylabel('no. of sessions')\n",
    "\n",
    "plt.title('Session counts on channel -(after data cleaning)')"
   ]
  },
  {
   "cell_type": "markdown",
   "id": "18178996",
   "metadata": {},
   "source": [
    "So from the graphs above we can see that there are no visits on channels **Display marketing** and **Content marketing**. Whereas SEO is the most popular channel among all the other channels."
   ]
  },
  {
   "cell_type": "markdown",
   "id": "7d95fa62",
   "metadata": {},
   "source": [
    "# (Bonus) Any other issues?"
   ]
  },
  {
   "cell_type": "code",
   "execution_count": 109,
   "id": "3b006045",
   "metadata": {},
   "outputs": [
    {
     "data": {
      "text/html": [
       "<div>\n",
       "<style scoped>\n",
       "    .dataframe tbody tr th:only-of-type {\n",
       "        vertical-align: middle;\n",
       "    }\n",
       "\n",
       "    .dataframe tbody tr th {\n",
       "        vertical-align: top;\n",
       "    }\n",
       "\n",
       "    .dataframe thead th {\n",
       "        text-align: right;\n",
       "    }\n",
       "</style>\n",
       "<table border=\"1\" class=\"dataframe\">\n",
       "  <thead>\n",
       "    <tr style=\"text-align: right;\">\n",
       "      <th></th>\n",
       "      <th>conv_id</th>\n",
       "      <th>user_id</th>\n",
       "      <th>conv_date</th>\n",
       "      <th>market</th>\n",
       "      <th>revenue</th>\n",
       "    </tr>\n",
       "  </thead>\n",
       "  <tbody>\n",
       "    <tr>\n",
       "      <th>7</th>\n",
       "      <td>conv_id_11478</td>\n",
       "      <td>user_id_758246</td>\n",
       "      <td>2021-07-15</td>\n",
       "      <td>DE</td>\n",
       "      <td>0.0</td>\n",
       "    </tr>\n",
       "    <tr>\n",
       "      <th>10</th>\n",
       "      <td>conv_id_87</td>\n",
       "      <td>user_id_376090</td>\n",
       "      <td>2021-07-15</td>\n",
       "      <td>FR</td>\n",
       "      <td>0.0</td>\n",
       "    </tr>\n",
       "    <tr>\n",
       "      <th>151</th>\n",
       "      <td>conv_id_15098</td>\n",
       "      <td>user_id_47785</td>\n",
       "      <td>2021-07-15</td>\n",
       "      <td>NL</td>\n",
       "      <td>0.0</td>\n",
       "    </tr>\n",
       "    <tr>\n",
       "      <th>162</th>\n",
       "      <td>conv_id_16021</td>\n",
       "      <td>user_id_173269</td>\n",
       "      <td>2021-07-15</td>\n",
       "      <td>DE</td>\n",
       "      <td>0.0</td>\n",
       "    </tr>\n",
       "    <tr>\n",
       "      <th>163</th>\n",
       "      <td>conv_id_12754</td>\n",
       "      <td>user_id_561494</td>\n",
       "      <td>2021-07-15</td>\n",
       "      <td>DE</td>\n",
       "      <td>0.0</td>\n",
       "    </tr>\n",
       "    <tr>\n",
       "      <th>...</th>\n",
       "      <td>...</td>\n",
       "      <td>...</td>\n",
       "      <td>...</td>\n",
       "      <td>...</td>\n",
       "      <td>...</td>\n",
       "    </tr>\n",
       "    <tr>\n",
       "      <th>16644</th>\n",
       "      <td>conv_id_7159</td>\n",
       "      <td>user_id_28518</td>\n",
       "      <td>2021-07-31</td>\n",
       "      <td>GB</td>\n",
       "      <td>0.0</td>\n",
       "    </tr>\n",
       "    <tr>\n",
       "      <th>16660</th>\n",
       "      <td>conv_id_9775</td>\n",
       "      <td>user_id_20418</td>\n",
       "      <td>2021-07-31</td>\n",
       "      <td>GB</td>\n",
       "      <td>0.0</td>\n",
       "    </tr>\n",
       "    <tr>\n",
       "      <th>16722</th>\n",
       "      <td>conv_id_14959</td>\n",
       "      <td>user_id_591188</td>\n",
       "      <td>2021-07-31</td>\n",
       "      <td>GB</td>\n",
       "      <td>0.0</td>\n",
       "    </tr>\n",
       "    <tr>\n",
       "      <th>16752</th>\n",
       "      <td>conv_id_15526</td>\n",
       "      <td>user_id_711735</td>\n",
       "      <td>2021-07-31</td>\n",
       "      <td>GB</td>\n",
       "      <td>0.0</td>\n",
       "    </tr>\n",
       "    <tr>\n",
       "      <th>16780</th>\n",
       "      <td>conv_id_1376</td>\n",
       "      <td>user_id_444912</td>\n",
       "      <td>2021-07-31</td>\n",
       "      <td>GB</td>\n",
       "      <td>0.0</td>\n",
       "    </tr>\n",
       "  </tbody>\n",
       "</table>\n",
       "<p>197 rows × 5 columns</p>\n",
       "</div>"
      ],
      "text/plain": [
       "             conv_id         user_id  conv_date market  revenue\n",
       "7      conv_id_11478  user_id_758246 2021-07-15     DE      0.0\n",
       "10        conv_id_87  user_id_376090 2021-07-15     FR      0.0\n",
       "151    conv_id_15098   user_id_47785 2021-07-15     NL      0.0\n",
       "162    conv_id_16021  user_id_173269 2021-07-15     DE      0.0\n",
       "163    conv_id_12754  user_id_561494 2021-07-15     DE      0.0\n",
       "...              ...             ...        ...    ...      ...\n",
       "16644   conv_id_7159   user_id_28518 2021-07-31     GB      0.0\n",
       "16660   conv_id_9775   user_id_20418 2021-07-31     GB      0.0\n",
       "16722  conv_id_14959  user_id_591188 2021-07-31     GB      0.0\n",
       "16752  conv_id_15526  user_id_711735 2021-07-31     GB      0.0\n",
       "16780   conv_id_1376  user_id_444912 2021-07-31     GB      0.0\n",
       "\n",
       "[197 rows x 5 columns]"
      ]
     },
     "execution_count": 109,
     "metadata": {},
     "output_type": "execute_result"
    }
   ],
   "source": [
    "conversions.query('revenue < =0')"
   ]
  },
  {
   "cell_type": "code",
   "execution_count": 110,
   "id": "56615ea9",
   "metadata": {},
   "outputs": [
    {
     "name": "stdout",
     "output_type": "stream",
     "text": [
      "(197, 5)\n",
      "(27, 5)\n"
     ]
    }
   ],
   "source": [
    "print(conversions.query('revenue <=0').shape)\n",
    "print(conv_back.query('revenue <=0').shape)"
   ]
  },
  {
   "cell_type": "markdown",
   "id": "ecf7b71e",
   "metadata": {},
   "source": [
    "Considering conversion means that a user with certain conv_id made purchase. So assuming that for each conversion id there should be some revenue collected. However, when we see both conversions table, we have genertaed 0 revenue from certain conv_ids This could be because of the following reason:\n",
    "1. There is a coupon or discount code which is applied at the checkout.\n",
    "2. The price of some items are free (like some free e-books, free-trials etc).\n",
    "\n",
    "By looking at the above points we can not conclude anything, because there is no enough information about the products sold by the Company X.\n",
    "\n",
    "Moreover, if the conversions at the backend are true and we have same conversion ids in both conversion tables(some missing values in conversion_front), then the number of conversion_id with the 0 revenue generated would be the same. However, the conversion at frontend has not properly tracked the revenue and there is a difference of 170 untracked ids. "
   ]
  },
  {
   "cell_type": "markdown",
   "id": "ab0cbd8a",
   "metadata": {},
   "source": []
  }
 ],
 "metadata": {
  "kernelspec": {
   "display_name": "Python 3 (ipykernel)",
   "language": "python",
   "name": "python3"
  },
  "language_info": {
   "codemirror_mode": {
    "name": "ipython",
    "version": 3
   },
   "file_extension": ".py",
   "mimetype": "text/x-python",
   "name": "python",
   "nbconvert_exporter": "python",
   "pygments_lexer": "ipython3",
   "version": "3.9.12"
  }
 },
 "nbformat": 4,
 "nbformat_minor": 5
}
